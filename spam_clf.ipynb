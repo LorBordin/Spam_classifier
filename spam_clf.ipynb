{
 "cells": [
  {
   "cell_type": "markdown",
   "metadata": {},
   "source": [
    "# Spam Classifier"
   ]
  },
  {
   "cell_type": "markdown",
   "metadata": {},
   "source": [
    "## 1. Get the data and Split into Training and Test sets\n",
    "\n",
    "Download the compressed files from the Apache SpamAssassin’s public datasets, store them in the _Data_ folder and return the list of the decompressed e-mails."
   ]
  },
  {
   "cell_type": "code",
   "execution_count": 1,
   "metadata": {
    "scrolled": true
   },
   "outputs": [
    {
     "name": "stdout",
     "output_type": "stream",
     "text": [
      "[INFO] Downloading the datset...\n",
      "[INFO] Found 2551 e-mails.\n",
      "[INFO] Downloading the datset...\n",
      "[INFO] Found 250 e-mails.\n",
      "[INFO] Downloading the datset...\n",
      "[INFO] Found 501 e-mails.\n"
     ]
    }
   ],
   "source": [
    "from urllib.request import urlretrieve\n",
    "from email.parser import BytesParser\n",
    "import email.policy\n",
    "import tarfile\n",
    "import os\n",
    "\n",
    "\n",
    "def download_and_extract(filename):\n",
    "    \n",
    "    mail_list = []    # list of e-mails\n",
    "    path = 'data/'    # destination path\n",
    "    \n",
    "    # make dir is it does not exists\n",
    "    if not os.path.isdir(path):\n",
    "        os.mkdir(path)\n",
    "\n",
    "    # download the compressed file\n",
    "    print('[INFO] Downloading the datset...')\n",
    "    url = 'https://spamassassin.apache.org/old/publiccorpus/'\n",
    "    urlretrieve(url+filename, path+filename)\n",
    "    \n",
    "    # load and unzip \n",
    "    tar = tarfile.open(path+filename)\n",
    "    n_mails = len(tar.getmembers()[1:])\n",
    "    print('[INFO] Found {} e-mails.'.format(n_mails))\n",
    "\n",
    "    for file in tar.getmembers()[1:]:\n",
    "        f = tar.extractfile(file)\n",
    "        content = f.read()\n",
    "        f.close()\n",
    "        text = BytesParser(policy=email.policy.default).parsebytes(content)\n",
    "        mail_list.append(text)\n",
    "\n",
    "    tar.close()\n",
    "    return mail_list\n",
    "\n",
    "\n",
    "easy_ham = download_and_extract(\"20021010_easy_ham.tar.bz2\")\n",
    "hard_ham = download_and_extract(\"20021010_hard_ham.tar.bz2\")\n",
    "spam = download_and_extract(\"20021010_spam.tar.bz2\")"
   ]
  },
  {
   "cell_type": "code",
   "execution_count": 9,
   "metadata": {},
   "outputs": [],
   "source": [
    "from sklearn.model_selection import train_test_split\n",
    "import numpy as np\n",
    "\n",
    "X = np.array(easy_ham + spam + hard_ham)\n",
    "y = np.array([0] * len(easy_ham) + [1] * len(spam) + [2] * len(hard_ham))\n",
    "\n",
    "X_train, X_test, y_train, y_test = train_test_split(X, y, test_size=0.2, stratify=y)\n",
    "\n",
    "y_train[y_train==2] = 0\n",
    "y_test[y_test==2] = 0"
   ]
  },
  {
   "cell_type": "markdown",
   "metadata": {},
   "source": [
    "\n",
    "## 2. Preprocessing and Analysis"
   ]
  },
  {
   "cell_type": "markdown",
   "metadata": {},
   "source": [
    "\n",
    "### 2.1 Words counting\n",
    "\n",
    "Let's parse the e-mails' content. \n",
    "\n",
    "First, we define a function that parses the html decorators from a the body of an e-mail and returns a string containing its content."
   ]
  },
  {
   "cell_type": "code",
   "execution_count": 10,
   "metadata": {},
   "outputs": [],
   "source": [
    "from bs4 import BeautifulSoup\n",
    "\n",
    "def read_mail(email):\n",
    "    mail_text = ''\n",
    "    \n",
    "    for part in email.walk():\n",
    "        ctype = part.get_content_type()\n",
    "        if ctype in ('text/html', 'text/plain'):   \n",
    "            try: \n",
    "                content = part.get_content()\n",
    "            except:\n",
    "                content = str(part.get_payload())   \n",
    "                \n",
    "            soup = BeautifulSoup(content, 'html.parser')\n",
    "            mail_text += soup.get_text()\n",
    "            \n",
    "    return mail_text"
   ]
  },
  {
   "cell_type": "markdown",
   "metadata": {},
   "source": [
    "Then, collect the words. \n",
    "The following function makes the following parsing operations:\n",
    "\n",
    "- converts words to lower-case,\n",
    "- removes punctuation,\n",
    "- replaces numbers with `NUMBER`,\n",
    "- replaces urls with `URL`,\n",
    "\n",
    "It returns the list of all the words of the e-mail."
   ]
  },
  {
   "cell_type": "code",
   "execution_count": 11,
   "metadata": {
    "scrolled": true
   },
   "outputs": [],
   "source": [
    "import re\n",
    "\n",
    "def collect_words(mail_string):     \n",
    "    \n",
    "    re_url1 = '(https?:\\/\\/(?:www\\.|(?!www))[a-zA-Z0-9][a-zA-Z0-9-]+[a-zA-Z0-9]\\.[^\\s]{2,}'\n",
    "    re_url2 = '|www\\.[a-zA-Z0-9][a-zA-Z0-9-]+[a-zA-Z0-9]\\.[^\\s]{2,}'\n",
    "    re_url3 = '|https?:\\/\\/(?:www\\.|(?!www))[a-zA-Z0-9]+\\.[^\\s]{2,}|www\\.[a-zA-Z0-9]+\\.[^\\s]{2,})'\n",
    "    re_url = re_url1+re_url2+re_url3\n",
    "    \n",
    "    reg_1 = re.compile(re_url)             # -> Remove ULRs\n",
    "    reg_2 = re.compile(r'[0-9]+')          # -> Remove numbers\n",
    "    reg_3 = re.compile(r'[^\\w\\s]')         # -> Remove punctuation\n",
    "    reg_4 = re.compile(r'[\\n\\r\\t]')        # -> Remove newlines, tabs, etc..\n",
    "    \n",
    "    mail_string = mail_string.lower()      # -> Convert words in lower-case\n",
    "    mail_string = reg_1.sub(\"URL\", mail_string)\n",
    "    mail_string = reg_2.sub(\"NUMBER\", mail_string)\n",
    "    mail_string = reg_3.sub(\" \", mail_string)\n",
    "    mail_string = reg_4.sub(\" \", mail_string)\n",
    "    \n",
    "    return mail_string.split()"
   ]
  },
  {
   "cell_type": "markdown",
   "metadata": {},
   "source": [
    "Time to __make a vocabulary with the word frequencies__.\n",
    "We neglect all the english common words like 'the' or 'a' or 'is'..., that are not useful to classify spam e-mails."
   ]
  },
  {
   "cell_type": "code",
   "execution_count": 12,
   "metadata": {},
   "outputs": [],
   "source": [
    "from collections import Counter\n",
    "from nltk.corpus import stopwords\n",
    "\n",
    "def make_dict(mail_set, rm_comm_eng_words, subj_dict=False): \n",
    "    dictionary = Counter()\n",
    "    \n",
    "    # if true makes a dictionary with the most common words of the subject\n",
    "    if subj_dict:\n",
    "        for mail in mail_set:\n",
    "            subj_string = str(mail['Subject'])\n",
    "            dictionary += Counter(collect_words(subj_string))\n",
    "    \n",
    "    # make a dictionary with the most common body words\n",
    "    else:\n",
    "        for mail in mail_set:\n",
    "            dictionary += Counter(collect_words(read_mail(mail))) \n",
    "    \n",
    "    # Remove the English most common words\n",
    "    single_letters = ['e','c','x','g','p','r','n','f','u','l','a','i']\n",
    "    for letter in single_letters:\n",
    "        del dictionary[letter]\n",
    "    \n",
    "    if rm_comm_eng_words:\n",
    "        common_words = np.array(stopwords.words('english'))\n",
    "        for word in common_words:\n",
    "            del dictionary[word]\n",
    "     \n",
    "    return dictionary"
   ]
  },
  {
   "cell_type": "markdown",
   "metadata": {},
   "source": [
    "Generate __3 different vocabnularies__: \n",
    "\n",
    "- ham words, \n",
    "- spam words,\n",
    "- suject words from spam.\n",
    "\n",
    "The following function generates the vocabulary via the `make_dict` function, it saves it in a `.txt` file.\n",
    "Finally, it loads the list of the `n_words` most common words.  "
   ]
  },
  {
   "cell_type": "code",
   "execution_count": 13,
   "metadata": {
    "scrolled": true
   },
   "outputs": [
    {
     "name": "stdout",
     "output_type": "stream",
     "text": [
      "Dictionary loaded.\n",
      "Dictionary loaded.\n",
      "Dictionary loaded.\n"
     ]
    }
   ],
   "source": [
    "import numpy as np\n",
    "import warnings\n",
    "\n",
    "warnings.filterwarnings(\"ignore\", category=UserWarning, module='bs4')    # shut up bs4 URL warning\n",
    "\n",
    "def most_common_words(n_words, txt_file, words_set=X_train, rm_comm_eng_words=True, subj_dict=False,):\n",
    "    \n",
    "    # try to load the dictionary from the .txt file.\n",
    "    try:\n",
    "        body_dict = []\n",
    "        file = open(txt_file, 'r')\n",
    "        \n",
    "        for line in range(n_words):\n",
    "            body_dict.append(file.readline().rstrip())\n",
    "        \n",
    "        file.close()\n",
    "        body_dict = np.array(body_dict)\n",
    "        print('Dictionary loaded.')\n",
    "    \n",
    "    # make_dict if the .txt doesn't exists\n",
    "    except FileNotFoundError:\n",
    "        print(\"There's no dictionary. Creating a new one.\")\n",
    "        body_dict = make_dict(words_set, subj_dict=subj_dict, rm_comm_eng_words=rm_comm_eng_words)\n",
    "        body_dict = body_dict.most_common()\n",
    "        file = open(txt_file, 'w+')\n",
    "        \n",
    "        for key, freq in body_dict:\n",
    "            file.write(str(key)+'\\n')\n",
    "        \n",
    "        file.close()\n",
    "        body_dict = most_common_words(n_words, txt_file, rm_comm_eng_words)\n",
    "    \n",
    "    return body_dict\n",
    "\n",
    "\n",
    "\n",
    "spam_subj_words = most_common_words(50, 'vocabularies/spam_subj_dict.txt', \n",
    "                                    words_set=X_train[y_train==1], subj_dict=True)\n",
    "ham_words = most_common_words(200, 'vocabularies/ham_dict.txt', words_set=X_train[y_train==0])\n",
    "spam_words = most_common_words(250, 'vocabularies/spam_dict.txt', words_set=X_train[y_train==1])"
   ]
  },
  {
   "cell_type": "markdown",
   "metadata": {},
   "source": [
    "Here's the 20 most common ham and spam words:"
   ]
  },
  {
   "cell_type": "code",
   "execution_count": 14,
   "metadata": {
    "scrolled": true
   },
   "outputs": [
    {
     "data": {
      "text/html": [
       "<div>\n",
       "<style scoped>\n",
       "    .dataframe tbody tr th:only-of-type {\n",
       "        vertical-align: middle;\n",
       "    }\n",
       "\n",
       "    .dataframe tbody tr th {\n",
       "        vertical-align: top;\n",
       "    }\n",
       "\n",
       "    .dataframe thead th {\n",
       "        text-align: right;\n",
       "    }\n",
       "</style>\n",
       "<table border=\"1\" class=\"dataframe\">\n",
       "  <thead>\n",
       "    <tr style=\"text-align: right;\">\n",
       "      <th></th>\n",
       "      <th>0</th>\n",
       "      <th>1</th>\n",
       "      <th>2</th>\n",
       "      <th>3</th>\n",
       "      <th>4</th>\n",
       "      <th>5</th>\n",
       "      <th>6</th>\n",
       "      <th>7</th>\n",
       "      <th>8</th>\n",
       "      <th>9</th>\n",
       "      <th>10</th>\n",
       "      <th>11</th>\n",
       "      <th>12</th>\n",
       "      <th>13</th>\n",
       "      <th>14</th>\n",
       "      <th>15</th>\n",
       "      <th>16</th>\n",
       "      <th>17</th>\n",
       "      <th>18</th>\n",
       "      <th>19</th>\n",
       "    </tr>\n",
       "  </thead>\n",
       "  <tbody>\n",
       "    <tr>\n",
       "      <th>Ham</th>\n",
       "      <td>NUMBER</td>\n",
       "      <td>URL</td>\n",
       "      <td>com</td>\n",
       "      <td>font</td>\n",
       "      <td>list</td>\n",
       "      <td>new</td>\n",
       "      <td>get</td>\n",
       "      <td>one</td>\n",
       "      <td>use</td>\n",
       "      <td>time</td>\n",
       "      <td>like</td>\n",
       "      <td>would</td>\n",
       "      <td>color</td>\n",
       "      <td>net</td>\n",
       "      <td>linux</td>\n",
       "      <td>mail</td>\n",
       "      <td>also</td>\n",
       "      <td>people</td>\n",
       "      <td>date</td>\n",
       "      <td>world</td>\n",
       "    </tr>\n",
       "    <tr>\n",
       "      <th>Spam</th>\n",
       "      <td>NUMBER</td>\n",
       "      <td>free</td>\n",
       "      <td>URL</td>\n",
       "      <td>mv</td>\n",
       "      <td>money</td>\n",
       "      <td>email</td>\n",
       "      <td>mail</td>\n",
       "      <td>please</td>\n",
       "      <td>get</td>\n",
       "      <td>list</td>\n",
       "      <td>business</td>\n",
       "      <td>people</td>\n",
       "      <td>click</td>\n",
       "      <td>information</td>\n",
       "      <td>one</td>\n",
       "      <td>name</td>\n",
       "      <td>time</td>\n",
       "      <td>us</td>\n",
       "      <td>new</td>\n",
       "      <td>receive</td>\n",
       "    </tr>\n",
       "  </tbody>\n",
       "</table>\n",
       "</div>"
      ],
      "text/plain": [
       "           0     1    2     3      4      5     6       7    8     9  \\\n",
       "Ham   NUMBER   URL  com  font   list    new   get     one  use  time   \n",
       "Spam  NUMBER  free  URL    mv  money  email  mail  please  get  list   \n",
       "\n",
       "            10      11     12           13     14    15    16      17    18  \\\n",
       "Ham       like   would  color          net  linux  mail  also  people  date   \n",
       "Spam  business  people  click  information    one  name  time      us   new   \n",
       "\n",
       "           19  \n",
       "Ham     world  \n",
       "Spam  receive  "
      ]
     },
     "execution_count": 14,
     "metadata": {},
     "output_type": "execute_result"
    }
   ],
   "source": [
    "from pandas import Series, DataFrame\n",
    "\n",
    "ham_spam = DataFrame({'Ham': ham_words[:20], 'Spam': spam_words[:20]})\n",
    "ham_spam.transpose()"
   ]
  },
  {
   "cell_type": "markdown",
   "metadata": {},
   "source": [
    "Good, words like __free__, __money__ or __please__ looks like typical spammy words. \n",
    "Now a look to the 10 most frequent spam subject words:"
   ]
  },
  {
   "cell_type": "code",
   "execution_count": 15,
   "metadata": {},
   "outputs": [
    {
     "data": {
      "text/html": [
       "<div>\n",
       "<style scoped>\n",
       "    .dataframe tbody tr th:only-of-type {\n",
       "        vertical-align: middle;\n",
       "    }\n",
       "\n",
       "    .dataframe tbody tr th {\n",
       "        vertical-align: top;\n",
       "    }\n",
       "\n",
       "    .dataframe thead th {\n",
       "        text-align: right;\n",
       "    }\n",
       "</style>\n",
       "<table border=\"1\" class=\"dataframe\">\n",
       "  <thead>\n",
       "    <tr style=\"text-align: right;\">\n",
       "      <th></th>\n",
       "      <th>0</th>\n",
       "      <th>1</th>\n",
       "      <th>2</th>\n",
       "      <th>3</th>\n",
       "      <th>4</th>\n",
       "      <th>5</th>\n",
       "      <th>6</th>\n",
       "      <th>7</th>\n",
       "      <th>8</th>\n",
       "      <th>9</th>\n",
       "      <th>10</th>\n",
       "      <th>11</th>\n",
       "      <th>12</th>\n",
       "      <th>13</th>\n",
       "      <th>14</th>\n",
       "      <th>15</th>\n",
       "      <th>16</th>\n",
       "      <th>17</th>\n",
       "      <th>18</th>\n",
       "      <th>19</th>\n",
       "    </tr>\n",
       "  </thead>\n",
       "  <tbody>\n",
       "    <tr>\n",
       "      <th>Subj</th>\n",
       "      <td>NUMBER</td>\n",
       "      <td>ilug</td>\n",
       "      <td>free</td>\n",
       "      <td>adv</td>\n",
       "      <td>rates</td>\n",
       "      <td>get</td>\n",
       "      <td>home</td>\n",
       "      <td>money</td>\n",
       "      <td>best</td>\n",
       "      <td>systemworks</td>\n",
       "      <td>new</td>\n",
       "      <td>low</td>\n",
       "      <td>year</td>\n",
       "      <td>social</td>\n",
       "      <td>clearance</td>\n",
       "      <td>zzzz</td>\n",
       "      <td>one</td>\n",
       "      <td>insurance</td>\n",
       "      <td>mortgage</td>\n",
       "      <td>online</td>\n",
       "    </tr>\n",
       "  </tbody>\n",
       "</table>\n",
       "</div>"
      ],
      "text/plain": [
       "           0     1     2    3      4    5     6      7     8            9  \\\n",
       "Subj  NUMBER  ilug  free  adv  rates  get  home  money  best  systemworks   \n",
       "\n",
       "       10   11    12      13         14    15   16         17        18  \\\n",
       "Subj  new  low  year  social  clearance  zzzz  one  insurance  mortgage   \n",
       "\n",
       "          19  \n",
       "Subj  online  "
      ]
     },
     "execution_count": 15,
     "metadata": {},
     "output_type": "execute_result"
    }
   ],
   "source": [
    "from pandas import Series,DataFrame\n",
    "\n",
    "subj_spam = DataFrame({'Subj': spam_subj_words[:20]})\n",
    "subj_spam.transpose()"
   ]
  },
  {
   "cell_type": "markdown",
   "metadata": {},
   "source": [
    "### 2.3 Email type\n",
    "\n",
    "Now take a look at how the emails are constructed. Many mails consists in multipart:"
   ]
  },
  {
   "cell_type": "code",
   "execution_count": 16,
   "metadata": {
    "scrolled": true
   },
   "outputs": [],
   "source": [
    "def structures_counter(emails):\n",
    "    structures = Counter()\n",
    "    for email in emails:\n",
    "        structure = email.get_content_type()\n",
    "        structures[structure] += 1\n",
    "    return structures"
   ]
  },
  {
   "cell_type": "markdown",
   "metadata": {},
   "source": [
    "Here's the different e-mail types:"
   ]
  },
  {
   "cell_type": "code",
   "execution_count": 18,
   "metadata": {},
   "outputs": [
    {
     "data": {
      "text/html": [
       "<div>\n",
       "<style scoped>\n",
       "    .dataframe tbody tr th:only-of-type {\n",
       "        vertical-align: middle;\n",
       "    }\n",
       "\n",
       "    .dataframe tbody tr th {\n",
       "        vertical-align: top;\n",
       "    }\n",
       "\n",
       "    .dataframe thead th {\n",
       "        text-align: right;\n",
       "    }\n",
       "</style>\n",
       "<table border=\"1\" class=\"dataframe\">\n",
       "  <thead>\n",
       "    <tr style=\"text-align: right;\">\n",
       "      <th></th>\n",
       "      <th>multipart/alternative</th>\n",
       "      <th>multipart/mixed</th>\n",
       "      <th>multipart/related</th>\n",
       "      <th>multipart/report</th>\n",
       "      <th>multipart/signed</th>\n",
       "      <th>text/html</th>\n",
       "      <th>text/plain</th>\n",
       "    </tr>\n",
       "  </thead>\n",
       "  <tbody>\n",
       "    <tr>\n",
       "      <th>Ham</th>\n",
       "      <td>38.0</td>\n",
       "      <td>11.0</td>\n",
       "      <td>3.0</td>\n",
       "      <td>2.0</td>\n",
       "      <td>63.0</td>\n",
       "      <td>94.0</td>\n",
       "      <td>2029.0</td>\n",
       "    </tr>\n",
       "    <tr>\n",
       "      <th>Spam</th>\n",
       "      <td>35.0</td>\n",
       "      <td>37.0</td>\n",
       "      <td>7.0</td>\n",
       "      <td>NaN</td>\n",
       "      <td>NaN</td>\n",
       "      <td>143.0</td>\n",
       "      <td>179.0</td>\n",
       "    </tr>\n",
       "  </tbody>\n",
       "</table>\n",
       "</div>"
      ],
      "text/plain": [
       "      multipart/alternative  multipart/mixed  multipart/related  \\\n",
       "Ham                    38.0             11.0                3.0   \n",
       "Spam                   35.0             37.0                7.0   \n",
       "\n",
       "      multipart/report  multipart/signed  text/html  text/plain  \n",
       "Ham                2.0              63.0       94.0      2029.0  \n",
       "Spam               NaN               NaN      143.0       179.0  "
      ]
     },
     "execution_count": 18,
     "metadata": {},
     "output_type": "execute_result"
    }
   ],
   "source": [
    "ham_ser = Series(dict(structures_counter(X_train[y_train==0])))\n",
    "spam_ser = Series(dict(structures_counter(X_train[y_train==1])))\n",
    "\n",
    "struct_df = DataFrame({'Ham':ham_ser, 'Spam':spam_ser})\n",
    "struct_df.transpose()"
   ]
  },
  {
   "cell_type": "markdown",
   "metadata": {},
   "source": [
    "Looks like a good feature to have. \n",
    "There's a lot of `plain text` in the ham dataset, while `html` is more frequent in the spam one.\n",
    "\n",
    "Let's save the different `email_types`s in the `category` list for later use."
   ]
  },
  {
   "cell_type": "code",
   "execution_count": 19,
   "metadata": {},
   "outputs": [],
   "source": [
    "email_structures = structures_counter(X_train)\n",
    "categories = np.array([key for (key, word) in email_structures.most_common()], dtype='<U13')\n",
    "categories = np.sort(categories)"
   ]
  },
  {
   "cell_type": "markdown",
   "metadata": {},
   "source": [
    "\n",
    "## 3. Generating the Features\n",
    "\n",
    "Now convert our features into a vector.\n",
    "We define two new classes, `DigitalizeMail` and `SelectFeatures`. \n",
    "\n",
    "The `transform()` method of  `DigitalizeMail`, create the feature vector.\n",
    "For each mail it sotres:\n",
    "\n",
    "- the frequency of the 200 most common ham words\n",
    "- the frequency of the 250 most common spam words\n",
    "- the frequency of the 50 most common subject words\n",
    "- the e-mail type\n",
    "\n",
    "However there are a lot of common words in the  ham and spam vocabulary. Therefore the feature vector has many repeated entries.\n",
    "To avoid repetitions and reduce the risk of overfitting, we use `SelectFeatures` that chooses only a subset of the features vector and takes care of avoiding repetitions. \n",
    "The total number of features is treated as a hyper-parameter. It is different for each trained classifier (see below).\n"
   ]
  },
  {
   "cell_type": "code",
   "execution_count": 20,
   "metadata": {},
   "outputs": [],
   "source": [
    "# Generate the feature vectors\n",
    "def vectorize(mail, dictionary, n_words, subject=False):\n",
    "    freq_vec = np.zeros(n_words)\n",
    "    mail_words = make_dict([mail], subj_dict=subject, rm_comm_eng_words=False)\n",
    "    \n",
    "    for index, key in list(enumerate(dictionary[:n_words])):\n",
    "        freq_vec[index] = mail_words[key]\n",
    "    \n",
    "    return freq_vec"
   ]
  },
  {
   "cell_type": "code",
   "execution_count": 21,
   "metadata": {},
   "outputs": [],
   "source": [
    "from sklearn.base import BaseEstimator, TransformerMixin\n",
    "\n",
    "# make the feature vector\n",
    "class DigitalizeMail(BaseEstimator, TransformerMixin):\n",
    "    \n",
    "    def __init__(self, ham_dict, spam_dict, subj_dict): \n",
    "        self.ham_dict = ham_dict\n",
    "        self.spam_dict = spam_dict\n",
    "        self.subj_dict = subj_dict\n",
    "        \n",
    "    def fit(self, X, y=None):\n",
    "        return self\n",
    "    \n",
    "    def transform(self, X, y=None):\n",
    "        ham_vec = np.zeros((len(X), 200))\n",
    "        spam_vec = np.zeros((len(X), 250))\n",
    "        subj_dict_vec = np.zeros((len(X), 50))\n",
    "        email_type = np.zeros((len(X), 1), dtype='<U13')\n",
    "        \n",
    "        for index, mail in enumerate(X):\n",
    "            ham_vec[index] = vectorize(mail, self.ham_dict, 200)\n",
    "            spam_vec[index] = vectorize(mail, self.spam_dict, 250)\n",
    "            subj_dict_vec[index] = vectorize(mail, self.subj_dict, 50, subject=True)\n",
    "            email_type[index] = mail.get_content_type()\n",
    "            \n",
    "        return np.concatenate([ham_vec, spam_vec, subj_dict_vec, email_type], axis=1)\n",
    "        \n",
    "\n",
    "# choose only a subset of the total features    \n",
    "class SelectFeatures(BaseEstimator, TransformerMixin):\n",
    "    \n",
    "    def __init__(self, ham_dict, spam_dict, subj_dict, spam_ham_ratio, n_subj_words): \n",
    "        self.ham_dict = ham_dict\n",
    "        self.spam_dict = spam_dict\n",
    "        self.subj_dict = subj_dict\n",
    "        self.spam_ham_ratio = spam_ham_ratio\n",
    "        self.n_subj_words = n_subj_words\n",
    "        self.total_features = np.concatenate([ham_words,spam_words,spam_subj_words, categories])\n",
    "   \n",
    "    def fit(self, X, y=None):\n",
    "        count, index = 0, 0\n",
    "        spam = []\n",
    "        \n",
    "        # make a list of len=spam_ham_ratio containing most common spammy words not in 200 most common ham words\n",
    "        while(count<self.spam_ham_ratio)and(index<len(self.spam_dict)):\n",
    "            if self.spam_dict[index] not in self.ham_dict[:200]:\n",
    "                spam.append(self.spam_dict[index])\n",
    "                count +=1\n",
    "            index +=1\n",
    "\n",
    "        self.args = [np.argwhere(self.spam_dict==el) for el in spam]\n",
    "        self.args = np.array(self.args).flatten()+200\n",
    "        self.body_dict = np.concatenate([self.ham_dict[:200-self.spam_ham_ratio], spam])\n",
    "        \n",
    "        # List with the reduced set of features\n",
    "        self.red_feat_list = np.concatenate([list(range(200-self.spam_ham_ratio)), \n",
    "                                             self.args, \n",
    "                                             list(range(450, 450+self.n_subj_words)),\n",
    "                                             list(range(500,500+len(categories)))])\n",
    "        \n",
    "        #self.red_words_list = np.concatenate([ham_words_m, spam_words_m, subj_words_m], axis=1)\n",
    "        #self.red_feat_list = np.concatenate([self.red_words_list, categories], axis=1)\n",
    "        \n",
    "        return self\n",
    "\n",
    "    \n",
    "    def transform(self, X, y=None):\n",
    "        ham_words_m = X[:, :200-self.spam_ham_ratio]\n",
    "        spam_words_m = X[:, self.args]\n",
    "        subj_words_m = X[:, 450:450+self.n_subj_words]\n",
    "        email_type_m = X[:, -1]\n",
    "        return np.concatenate([ham_words_m, spam_words_m, subj_words_m,\n",
    "                               email_type_m.reshape((len(X), 1))], axis=1)\n",
    "        "
   ]
  },
  {
   "cell_type": "markdown",
   "metadata": {},
   "source": [
    "\n",
    "### 3.1 Automatising the process\n",
    "\n",
    "First preprocessing.\n",
    "\n",
    "Make the `X_train_prepared` matrix of the train dataset with all the possibile features."
   ]
  },
  {
   "cell_type": "code",
   "execution_count": 22,
   "metadata": {
    "scrolled": true
   },
   "outputs": [
    {
     "data": {
      "text/plain": [
       "(2641, 501)"
      ]
     },
     "execution_count": 22,
     "metadata": {},
     "output_type": "execute_result"
    }
   ],
   "source": [
    "X_train_prepared = DigitalizeMail(ham_dict=ham_words, \n",
    "                                  spam_dict=spam_words, \n",
    "                                  subj_dict=spam_subj_words).fit_transform(X_train)\n",
    "X_train_prepared.shape"
   ]
  },
  {
   "cell_type": "markdown",
   "metadata": {},
   "source": [
    "Second preprocessing.\n",
    "\n",
    "Create the `Pipeline` that __selects the features for each classifier__. We use  `OneHotEcoder` to deal with the _categorical_ `email_type`."
   ]
  },
  {
   "cell_type": "code",
   "execution_count": 23,
   "metadata": {},
   "outputs": [],
   "source": [
    "from sklearn.pipeline import Pipeline\n",
    "from sklearn.compose import ColumnTransformer\n",
    "from sklearn.preprocessing import OneHotEncoder\n",
    "from sklearn.preprocessing import StandardScaler\n",
    "\n",
    "preprocessing = ColumnTransformer([\n",
    "    ('num', StandardScaler(), slice(0,-1)),\n",
    "    ('cat', OneHotEncoder(categories=[categories]), [-1])\n",
    "])\n",
    "\n",
    "\n",
    "feat_sel = Pipeline([\n",
    "    ('select_features', SelectFeatures(ham_dict=ham_words,spam_dict=spam_words, \n",
    "                                       subj_dict=spam_subj_words, spam_ham_ratio=35, n_subj_words=10)),\n",
    "    ('preprocess', preprocessing )\n",
    "    ])"
   ]
  },
  {
   "cell_type": "markdown",
   "metadata": {},
   "source": [
    "\n",
    "\n",
    "## 4. Train some model\n",
    "\n",
    "Let's train some classifier. \n",
    "We train 5 different modelf that work with different algorithms, to see the best one.\n",
    "We will merge some of them into a __voting classifier__.\n",
    "\n",
    "\n",
    "### 4.1 Dumb Model -- everything is ham\n",
    "\n",
    "Set a reference for the sccuracy score. "
   ]
  },
  {
   "cell_type": "code",
   "execution_count": 24,
   "metadata": {},
   "outputs": [
    {
     "data": {
      "text/plain": [
       "0.848163574403635"
      ]
     },
     "execution_count": 24,
     "metadata": {},
     "output_type": "execute_result"
    }
   ],
   "source": [
    "X_train_ham = X_train[y_train == 0]\n",
    "len(X_train_ham) / len(X_train)"
   ]
  },
  {
   "cell_type": "markdown",
   "metadata": {},
   "source": [
    "The accuracy of the simplest classifier is quite high. \n",
    "\n",
    "Therefore we use the __f1 score__ to evaluate the performances of the trained classifers.\n",
    "Use `cross_val_score` splitting the train dataset in 5 subsets. "
   ]
  },
  {
   "cell_type": "code",
   "execution_count": 25,
   "metadata": {},
   "outputs": [],
   "source": [
    "from sklearn.model_selection import cross_validate\n",
    "from sklearn.metrics import accuracy_score, precision_score, recall_score, make_scorer\n",
    "\n",
    "scorers = {\n",
    "    'precision_score': make_scorer(precision_score),\n",
    "    'recall_score': make_scorer(recall_score),\n",
    "    'accuracy_score': make_scorer(accuracy_score)\n",
    "}\n",
    "\n",
    "def print_scores(clf_cv, acc=True, prec=True, rec=True):\n",
    "    if acc:\n",
    "        print('accuracy: %.3f' % clf_cv['test_accuracy_score'].mean())\n",
    "    if prec:\n",
    "        print('precision: %.3f' % clf_cv['test_precision_score'].mean())\n",
    "    if rec:\n",
    "        print('recall: %.3f' % clf_cv['test_recall_score'].mean())\n",
    "    "
   ]
  },
  {
   "cell_type": "markdown",
   "metadata": {},
   "source": [
    "### 4.2 Logistic Regression\n",
    "\n",
    "Simple Linear Model. "
   ]
  },
  {
   "cell_type": "code",
   "execution_count": 26,
   "metadata": {},
   "outputs": [
    {
     "name": "stdout",
     "output_type": "stream",
     "text": [
      "accuracy: 0.967\n",
      "precision: 0.912\n",
      "recall: 0.865\n"
     ]
    }
   ],
   "source": [
    "from sklearn.linear_model import LogisticRegression\n",
    "\n",
    "log_reg = Pipeline([\n",
    "    ('pre', feat_sel),\n",
    "    ('reg', LogisticRegression(solver='liblinear', random_state=42))\n",
    "])\n",
    "\n",
    "lin_cv = cross_validate(log_reg, X_train_prepared, y_train, cv=5, scoring=scorers, n_jobs=-1)\n",
    "print_scores(lin_cv)"
   ]
  },
  {
   "cell_type": "markdown",
   "metadata": {},
   "source": [
    "Fine tune some hyperparameter (including the features selection)."
   ]
  },
  {
   "cell_type": "code",
   "execution_count": 27,
   "metadata": {},
   "outputs": [
    {
     "name": "stdout",
     "output_type": "stream",
     "text": [
      "Fitting 5 folds for each of 100 candidates, totalling 500 fits\n"
     ]
    },
    {
     "name": "stderr",
     "output_type": "stream",
     "text": [
      "[Parallel(n_jobs=-1)]: Using backend LokyBackend with 8 concurrent workers.\n",
      "[Parallel(n_jobs=-1)]: Done   2 tasks      | elapsed:    2.2s\n",
      "[Parallel(n_jobs=-1)]: Done  56 tasks      | elapsed:   19.8s\n",
      "[Parallel(n_jobs=-1)]: Done 146 tasks      | elapsed:   57.6s\n",
      "[Parallel(n_jobs=-1)]: Done 272 tasks      | elapsed:  1.8min\n",
      "[Parallel(n_jobs=-1)]: Done 434 tasks      | elapsed:  2.7min\n",
      "[Parallel(n_jobs=-1)]: Done 500 out of 500 | elapsed:  3.6min finished\n"
     ]
    },
    {
     "name": "stdout",
     "output_type": "stream",
     "text": [
      "Best score: 0.905\n",
      "Best params: {'pre__select_features__n_subj_words': 43, 'pre__select_features__spam_ham_ratio': 24, 'reg__C': 19.114286128198323, 'reg__penalty': 'l2'}\n"
     ]
    }
   ],
   "source": [
    "from sklearn.model_selection import RandomizedSearchCV\n",
    "from scipy.stats import uniform, reciprocal\n",
    "\n",
    "param_distrib = {'reg__penalty': ['l2', 'l1'], \n",
    "                 \"reg__C\":uniform(.1, 20),\n",
    "                 \"pre__select_features__spam_ham_ratio\":list(range(5, 35)),\n",
    "                 \"pre__select_features__n_subj_words\": list(range(5, 50))}\n",
    "\n",
    "rnd_srch_log = RandomizedSearchCV(log_reg, param_distributions=param_distrib, cv=5, scoring='f1', \n",
    "                                  random_state=42, n_iter=100, n_jobs=-1, verbose=5,)\n",
    "\n",
    "rnd_srch_log.fit(X_train_prepared, y_train)\n",
    "\n",
    "print('Best score: %.3f' % rnd_srch_log.best_score_)\n",
    "print('Best params:', rnd_srch_log.best_params_)"
   ]
  },
  {
   "cell_type": "markdown",
   "metadata": {},
   "source": [
    "Evaluate the performances of the fine tuned algorithm."
   ]
  },
  {
   "cell_type": "code",
   "execution_count": 28,
   "metadata": {
    "scrolled": true
   },
   "outputs": [
    {
     "name": "stdout",
     "output_type": "stream",
     "text": [
      "accuracy: 0.971\n",
      "precision: 0.896\n",
      "recall: 0.915\n"
     ]
    }
   ],
   "source": [
    "log_reg = rnd_srch_log.best_estimator_\n",
    "\n",
    "lin_cv = cross_validate(log_reg, X_train_prepared, y_train, cv=5, scoring=scorers, n_jobs=-1)\n",
    "print_scores(lin_cv)"
   ]
  },
  {
   "cell_type": "markdown",
   "metadata": {},
   "source": [
    "### 4.3 SGD Classifier\n",
    "\n",
    "Another kind of linear model|."
   ]
  },
  {
   "cell_type": "code",
   "execution_count": 29,
   "metadata": {},
   "outputs": [
    {
     "name": "stdout",
     "output_type": "stream",
     "text": [
      "accuracy: 0.959\n",
      "precision: 0.891\n",
      "recall: 0.830\n"
     ]
    }
   ],
   "source": [
    "from sklearn.linear_model import SGDClassifier\n",
    "\n",
    "sgd_clf = Pipeline([\n",
    "    ('pre', feat_sel),\n",
    "    ('sgd', SGDClassifier(loss=\"log\", random_state=42))\n",
    "])\n",
    "\n",
    "sgd_cv = cross_validate(sgd_clf, X_train_prepared, y_train, cv=5, scoring=scorers, n_jobs=-1)\n",
    "print_scores(sgd_cv)"
   ]
  },
  {
   "cell_type": "markdown",
   "metadata": {},
   "source": [
    "Fine tune some hyperparameter (including the features selection)."
   ]
  },
  {
   "cell_type": "code",
   "execution_count": 30,
   "metadata": {
    "scrolled": true
   },
   "outputs": [
    {
     "name": "stdout",
     "output_type": "stream",
     "text": [
      "Fitting 5 folds for each of 100 candidates, totalling 500 fits\n"
     ]
    },
    {
     "name": "stderr",
     "output_type": "stream",
     "text": [
      "[Parallel(n_jobs=-1)]: Using backend LokyBackend with 8 concurrent workers.\n",
      "[Parallel(n_jobs=-1)]: Done  16 tasks      | elapsed:    4.1s\n",
      "[Parallel(n_jobs=-1)]: Done 112 tasks      | elapsed:   20.3s\n",
      "[Parallel(n_jobs=-1)]: Done 272 tasks      | elapsed:   50.8s\n",
      "[Parallel(n_jobs=-1)]: Done 500 out of 500 | elapsed:  1.5min finished\n"
     ]
    },
    {
     "name": "stdout",
     "output_type": "stream",
     "text": [
      "Best score: 0.870\n",
      "Best params: {'pre__select_features__n_subj_words': 43, 'pre__select_features__spam_ham_ratio': 34, 'sgd__alpha': 0.0002755546207779662, 'sgd__loss': 'hinge'}\n"
     ]
    }
   ],
   "source": [
    "from sklearn.model_selection import RandomizedSearchCV\n",
    "from scipy.stats import uniform, reciprocal\n",
    "\n",
    "param_distrib = {\"sgd__loss\": ['hinge', 'log','squared_hinge'], 'sgd__alpha': reciprocal(.0001, 1),\n",
    "                 \"pre__select_features__spam_ham_ratio\":list(range(5, 35)),\n",
    "                 \"pre__select_features__n_subj_words\": list(range(5, 50))}\n",
    "\n",
    "rnd_srch_sgd = RandomizedSearchCV(sgd_clf, param_distributions=param_distrib, \n",
    "                                  cv=5, scoring='f1', random_state=42,\n",
    "                                  n_iter=100, verbose=3, n_jobs=-1)\n",
    "\n",
    "rnd_srch_sgd.fit(X_train_prepared, y_train)\n",
    "\n",
    "print('Best score: %.3f' % rnd_srch_sgd.best_score_)\n",
    "print('Best params:', rnd_srch_sgd.best_params_)"
   ]
  },
  {
   "cell_type": "markdown",
   "metadata": {},
   "source": [
    "Evaluate the performances of the fine tuned algorithm."
   ]
  },
  {
   "cell_type": "code",
   "execution_count": 31,
   "metadata": {},
   "outputs": [
    {
     "name": "stdout",
     "output_type": "stream",
     "text": [
      "accuracy: 0.962\n",
      "precision: 0.905\n",
      "recall: 0.838\n"
     ]
    }
   ],
   "source": [
    "sgd_clf = rnd_srch_sgd.best_estimator_\n",
    "\n",
    "sgd_cv = cross_validate(sgd_clf, X_train_prepared, y_train, cv=5, scoring=scorers, n_jobs=-1)\n",
    "print_scores(sgd_cv)"
   ]
  },
  {
   "cell_type": "markdown",
   "metadata": {},
   "source": [
    "### 4.4 RandomForestClassifier"
   ]
  },
  {
   "cell_type": "code",
   "execution_count": 32,
   "metadata": {},
   "outputs": [
    {
     "name": "stdout",
     "output_type": "stream",
     "text": [
      "accuracy: 0.976\n",
      "precision: 0.950\n",
      "recall: 0.888\n"
     ]
    }
   ],
   "source": [
    "from sklearn.ensemble import RandomForestClassifier\n",
    "\n",
    "forest_clf = Pipeline([\n",
    "    ('pre', feat_sel),\n",
    "    ('rnd', RandomForestClassifier(random_state=42))\n",
    "])\n",
    "\n",
    "\n",
    "forest_cv = cross_validate(forest_clf, X_train_prepared, y_train, cv=5, scoring=scorers, n_jobs=-1)\n",
    "print_scores(forest_cv)"
   ]
  },
  {
   "cell_type": "markdown",
   "metadata": {},
   "source": [
    "Good permonances! Now fine tune some hyperparameter (including the features selection)."
   ]
  },
  {
   "cell_type": "code",
   "execution_count": 33,
   "metadata": {
    "scrolled": true
   },
   "outputs": [
    {
     "name": "stdout",
     "output_type": "stream",
     "text": [
      "Fitting 5 folds for each of 100 candidates, totalling 500 fits\n"
     ]
    },
    {
     "name": "stderr",
     "output_type": "stream",
     "text": [
      "[Parallel(n_jobs=-1)]: Using backend LokyBackend with 8 concurrent workers.\n",
      "[Parallel(n_jobs=-1)]: Done   2 tasks      | elapsed:    2.1s\n",
      "[Parallel(n_jobs=-1)]: Done  56 tasks      | elapsed:   19.6s\n",
      "[Parallel(n_jobs=-1)]: Done 146 tasks      | elapsed:   51.7s\n",
      "[Parallel(n_jobs=-1)]: Done 272 tasks      | elapsed:  1.5min\n",
      "[Parallel(n_jobs=-1)]: Done 434 tasks      | elapsed:  2.4min\n",
      "[Parallel(n_jobs=-1)]: Done 500 out of 500 | elapsed:  2.7min finished\n"
     ]
    },
    {
     "name": "stdout",
     "output_type": "stream",
     "text": [
      "Best score: 0.934\n",
      "Best params: {'pre__select_features__n_subj_words': 35, 'pre__select_features__spam_ham_ratio': 7, 'rnd__max_depth': 92.59423558429536, 'rnd__n_estimators': 116}\n"
     ]
    }
   ],
   "source": [
    "param_distrib = {\"rnd__n_estimators\": list(range(1,500)), \"rnd__max_depth\": reciprocal(2,100),\n",
    "                 \"pre__select_features__spam_ham_ratio\":list(range(5, 35)),\n",
    "                 \"pre__select_features__n_subj_words\": list(range(5, 50))}\n",
    "\n",
    "rnd_srch_forest = RandomizedSearchCV(forest_clf, param_distributions=param_distrib,\n",
    "                                     cv=5, scoring='f1', random_state=42,\n",
    "                                     n_iter=100, verbose=5, n_jobs=-1)\n",
    "\n",
    "rnd_srch_forest.fit(X_train_prepared, y_train)\n",
    "\n",
    "print('Best score: %.3f' % rnd_srch_forest.best_score_)\n",
    "print('Best params:', rnd_srch_forest.best_params_)"
   ]
  },
  {
   "cell_type": "markdown",
   "metadata": {},
   "source": [
    "Evaluate the performances of the fine tuned algorithm."
   ]
  },
  {
   "cell_type": "code",
   "execution_count": 34,
   "metadata": {
    "scrolled": true
   },
   "outputs": [
    {
     "name": "stdout",
     "output_type": "stream",
     "text": [
      "accuracy: 0.980\n",
      "precision: 0.952\n",
      "recall: 0.918\n"
     ]
    }
   ],
   "source": [
    "forest_clf = rnd_srch_forest.best_estimator_\n",
    "\n",
    "forest_cv = cross_validate(forest_clf, X_train_prepared, y_train, cv=5, scoring=scorers, n_jobs=-1)\n",
    "print_scores(forest_cv)"
   ]
  },
  {
   "cell_type": "markdown",
   "metadata": {},
   "source": [
    "Great performances! This is the best classifier."
   ]
  },
  {
   "cell_type": "markdown",
   "metadata": {},
   "source": [
    "### 4.5 KNCLassifier"
   ]
  },
  {
   "cell_type": "code",
   "execution_count": 35,
   "metadata": {},
   "outputs": [
    {
     "name": "stdout",
     "output_type": "stream",
     "text": [
      "accuracy: 0.939\n",
      "precision: 0.837\n",
      "recall: 0.743\n"
     ]
    }
   ],
   "source": [
    "from sklearn.neighbors import KNeighborsClassifier\n",
    "from sklearn.model_selection import cross_val_score\n",
    "\n",
    "knn_clf = Pipeline([\n",
    "    ('pre', feat_sel),\n",
    "    ('knn', KNeighborsClassifier())\n",
    "])\n",
    "\n",
    "\n",
    "knn_cv = cross_validate(knn_clf, X_train_prepared, y_train, cv=5, scoring=scorers, n_jobs=-1)\n",
    "print_scores(knn_cv)"
   ]
  },
  {
   "cell_type": "markdown",
   "metadata": {},
   "source": [
    "Poor perfomances. Let's see if we can get better."
   ]
  },
  {
   "cell_type": "code",
   "execution_count": 30,
   "metadata": {},
   "outputs": [
    {
     "name": "stdout",
     "output_type": "stream",
     "text": [
      "Fitting 5 folds for each of 100 candidates, totalling 500 fits\n"
     ]
    },
    {
     "name": "stderr",
     "output_type": "stream",
     "text": [
      "[Parallel(n_jobs=-1)]: Using backend LokyBackend with 8 concurrent workers.\n",
      "[Parallel(n_jobs=-1)]: Done   2 tasks      | elapsed:    2.2s\n",
      "[Parallel(n_jobs=-1)]: Done  56 tasks      | elapsed:   14.7s\n",
      "[Parallel(n_jobs=-1)]: Done 146 tasks      | elapsed:   37.3s\n",
      "[Parallel(n_jobs=-1)]: Done 272 tasks      | elapsed:  1.1min\n",
      "[Parallel(n_jobs=-1)]: Done 434 tasks      | elapsed:  1.8min\n",
      "[Parallel(n_jobs=-1)]: Done 500 out of 500 | elapsed:  2.0min finished\n"
     ]
    },
    {
     "name": "stdout",
     "output_type": "stream",
     "text": [
      "Best score: 0.848\n",
      "Best params: {'pre__select_features__spam_ham_ratio': 22, 'pre__select_features__n_subj_words': 19, 'knn__weights': 'distance', 'knn__n_neighbors': 4, 'knn__leaf_size': 47}\n"
     ]
    }
   ],
   "source": [
    "param_distrib = {\"knn__n_neighbors\": list(range(1, 10)), \n",
    "                 \"knn__weights\": ['uniform', 'distance'], \n",
    "                 \"knn__leaf_size\": list(range(20, 50)),\n",
    "                 \"pre__select_features__spam_ham_ratio\":list(range(5, 35)),\n",
    "                 \"pre__select_features__n_subj_words\": list(range(5, 50))}\n",
    "\n",
    "rnd_srch_knn = RandomizedSearchCV(knn_clf, param_distributions=param_distrib,\n",
    "                                     cv=5, scoring='f1', random_state=42,\n",
    "                                     n_iter=100, verbose=5, n_jobs=-1)\n",
    "\n",
    "rnd_srch_knn.fit(X_train_prepared, y_train)\n",
    "\n",
    "print('Best score: %.3f' % rnd_srch_knn.best_score_)\n",
    "print('Best params:', rnd_srch_knn.best_params_)"
   ]
  },
  {
   "cell_type": "markdown",
   "metadata": {},
   "source": [
    "Evaluate the performances of the fine tuned algorithm."
   ]
  },
  {
   "cell_type": "code",
   "execution_count": 31,
   "metadata": {
    "scrolled": false
   },
   "outputs": [
    {
     "name": "stdout",
     "output_type": "stream",
     "text": [
      "accuracy: 0.955\n",
      "precision: 0.872\n",
      "recall: 0.828\n"
     ]
    }
   ],
   "source": [
    "knn_clf = rnd_srch_knn.best_estimator_\n",
    "\n",
    "knn_cv = cross_validate(knn_clf, X_train_prepared, y_train, cv=5, scoring=scorers, n_jobs=-1)\n",
    "print_scores(knn_cv)"
   ]
  },
  {
   "cell_type": "markdown",
   "metadata": {},
   "source": [
    "Still very poor precision.\n",
    "\n",
    "### 4.6 Support Vector Machine"
   ]
  },
  {
   "cell_type": "code",
   "execution_count": 36,
   "metadata": {},
   "outputs": [
    {
     "name": "stdout",
     "output_type": "stream",
     "text": [
      "accuracy: 0.957\n",
      "precision: 0.947\n",
      "recall: 0.761\n"
     ]
    }
   ],
   "source": [
    "from sklearn.svm import SVC\n",
    "\n",
    "svc_clf = Pipeline([\n",
    "    ('pre', feat_sel),\n",
    "    ('svc', SVC())\n",
    "])\n",
    "\n",
    "svc_cv = cross_validate(svc_clf, X_train_prepared, y_train, cv=5, scoring=scorers, n_jobs=-1)\n",
    "print_scores(svc_cv)"
   ]
  },
  {
   "cell_type": "markdown",
   "metadata": {},
   "source": [
    "Fine tune some hyperparameter (including the features selection)."
   ]
  },
  {
   "cell_type": "code",
   "execution_count": 33,
   "metadata": {},
   "outputs": [
    {
     "name": "stdout",
     "output_type": "stream",
     "text": [
      "Fitting 5 folds for each of 100 candidates, totalling 500 fits\n"
     ]
    },
    {
     "name": "stderr",
     "output_type": "stream",
     "text": [
      "[Parallel(n_jobs=-1)]: Using backend LokyBackend with 8 concurrent workers.\n",
      "[Parallel(n_jobs=-1)]: Done   2 tasks      | elapsed:    2.5s\n",
      "[Parallel(n_jobs=-1)]: Done  56 tasks      | elapsed:   17.3s\n",
      "[Parallel(n_jobs=-1)]: Done 146 tasks      | elapsed:   42.4s\n",
      "[Parallel(n_jobs=-1)]: Done 272 tasks      | elapsed:  1.3min\n",
      "[Parallel(n_jobs=-1)]: Done 434 tasks      | elapsed:  6.7min\n",
      "[Parallel(n_jobs=-1)]: Done 500 out of 500 | elapsed:  7.0min finished\n"
     ]
    },
    {
     "name": "stdout",
     "output_type": "stream",
     "text": [
      "Best score: 0.895\n",
      "Best params: {'pre__select_features__n_subj_words': 9, 'pre__select_features__spam_ham_ratio': 16, 'svc__C': 8.586243332726877, 'svc__gamma': 0.002593837224366831, 'svc__kernel': 'rbf'}\n"
     ]
    }
   ],
   "source": [
    "param_distrib = {'svc__kernel': ['rbf', 'poly'],\n",
    "                 'svc__C': uniform(1,20),\n",
    "                 'svc__gamma': reciprocal(.0001, .1),\n",
    "                 \"pre__select_features__spam_ham_ratio\":list(range(5, 35)),\n",
    "                 \"pre__select_features__n_subj_words\": list(range(5, 50))}\n",
    "                 \n",
    "\n",
    "rnd_srch_svc = RandomizedSearchCV(svc_clf, param_distributions=param_distrib,\n",
    "                                     cv=5, scoring='f1', n_iter=100,\n",
    "                                     verbose=5, n_jobs=-1)\n",
    "\n",
    "rnd_srch_svc.fit(X_train_prepared, y_train)\n",
    "\n",
    "print('Best score: %.3f' % rnd_srch_svc.best_score_)\n",
    "print('Best params:', rnd_srch_svc.best_params_)"
   ]
  },
  {
   "cell_type": "code",
   "execution_count": 34,
   "metadata": {},
   "outputs": [
    {
     "name": "stdout",
     "output_type": "stream",
     "text": [
      "accuracy: 0.970\n",
      "precision: 0.948\n",
      "recall: 0.851\n"
     ]
    }
   ],
   "source": [
    "svc_clf = rnd_srch_svc.best_estimator_\n",
    "\n",
    "svc_cv = cross_validate(svc_clf, X_train_prepared, y_train, cv=5, scoring=scorers, n_jobs=-1)\n",
    "print_scores(svc_cv)"
   ]
  },
  {
   "cell_type": "markdown",
   "metadata": {},
   "source": [
    "Good performances\n",
    "\n",
    "### 4.7 Voting Classifier\n",
    "\n",
    "Make a voting classifier that merges the predictions of the trained models.\n",
    "Given that `RandomForestClassifier` is by far the best one, we count its vote twice."
   ]
  },
  {
   "cell_type": "code",
   "execution_count": 37,
   "metadata": {
    "scrolled": false
   },
   "outputs": [
    {
     "name": "stdout",
     "output_type": "stream",
     "text": [
      "accuracy: 0.976\n",
      "precision: 0.960\n",
      "recall: 0.880\n"
     ]
    }
   ],
   "source": [
    "from sklearn.ensemble import VotingClassifier\n",
    "from sklearn.metrics import accuracy_score\n",
    "\n",
    "voting_clf = VotingClassifier([('log', log_reg), ('SGD', sgd_clf), ('forest_1', forest_clf),\n",
    "                               ('forest_2', forest_clf), ('knn', knn_clf), ('svc', svc_clf)], voting='hard')\n",
    "\n",
    "voting_cv = cross_validate(voting_clf, X_train_prepared, y_train, cv=5, scoring=scorers, n_jobs=-1)\n",
    "print_scores(voting_cv)"
   ]
  },
  {
   "cell_type": "markdown",
   "metadata": {},
   "source": [
    "Good! Let's this with the individual classifiers."
   ]
  },
  {
   "cell_type": "code",
   "execution_count": 38,
   "metadata": {},
   "outputs": [
    {
     "data": {
      "text/html": [
       "<div>\n",
       "<style scoped>\n",
       "    .dataframe tbody tr th:only-of-type {\n",
       "        vertical-align: middle;\n",
       "    }\n",
       "\n",
       "    .dataframe tbody tr th {\n",
       "        vertical-align: top;\n",
       "    }\n",
       "\n",
       "    .dataframe thead th {\n",
       "        text-align: right;\n",
       "    }\n",
       "</style>\n",
       "<table border=\"1\" class=\"dataframe\">\n",
       "  <thead>\n",
       "    <tr style=\"text-align: right;\">\n",
       "      <th></th>\n",
       "      <th>log_reg</th>\n",
       "      <th>sgd_clf</th>\n",
       "      <th>forest_clf</th>\n",
       "      <th>knn_clf</th>\n",
       "      <th>svc_clf</th>\n",
       "      <th>voting_clf</th>\n",
       "    </tr>\n",
       "  </thead>\n",
       "  <tbody>\n",
       "    <tr>\n",
       "      <th>Accuracy</th>\n",
       "      <td>0.971</td>\n",
       "      <td>0.962</td>\n",
       "      <td>0.980</td>\n",
       "      <td>0.939</td>\n",
       "      <td>0.957</td>\n",
       "      <td>0.976</td>\n",
       "    </tr>\n",
       "    <tr>\n",
       "      <th>Precision</th>\n",
       "      <td>0.896</td>\n",
       "      <td>0.905</td>\n",
       "      <td>0.952</td>\n",
       "      <td>0.837</td>\n",
       "      <td>0.947</td>\n",
       "      <td>0.960</td>\n",
       "    </tr>\n",
       "    <tr>\n",
       "      <th>Recall</th>\n",
       "      <td>0.915</td>\n",
       "      <td>0.838</td>\n",
       "      <td>0.918</td>\n",
       "      <td>0.743</td>\n",
       "      <td>0.761</td>\n",
       "      <td>0.880</td>\n",
       "    </tr>\n",
       "  </tbody>\n",
       "</table>\n",
       "</div>"
      ],
      "text/plain": [
       "           log_reg  sgd_clf  forest_clf  knn_clf  svc_clf  voting_clf\n",
       "Accuracy     0.971    0.962       0.980    0.939    0.957       0.976\n",
       "Precision    0.896    0.905       0.952    0.837    0.947       0.960\n",
       "Recall       0.915    0.838       0.918    0.743    0.761       0.880"
      ]
     },
     "execution_count": 38,
     "metadata": {},
     "output_type": "execute_result"
    }
   ],
   "source": [
    "clfs_names = ['log_reg', 'sgd_clf', 'forest_clf', 'knn_clf', 'svc_clf', 'voting_clf']\n",
    "cvs_list = [lin_cv, sgd_cv, forest_cv, knn_cv, svc_cv, voting_cv]\n",
    "\n",
    "cv_scores_dict = {name: (round(cv['test_accuracy_score'].mean(), 3), \n",
    "                      round(cv['test_precision_score'].mean(), 3), \n",
    "                      round(cv['test_recall_score'].mean(), 3))\n",
    "               for name, cv in zip(clfs_names, cvs_list)}\n",
    "    \n",
    "cv_scores_df = DataFrame(cv_scores_dict, index=['Accuracy', 'Precision', 'Recall'])\n",
    "cv_scores_df"
   ]
  },
  {
   "cell_type": "markdown",
   "metadata": {},
   "source": [
    "`RandomForestClassifier` performs better in accuracy but worse in precision.  \n",
    "\n",
    "Also, __SGD__ and __KNN__ that perform very poorly in precision. __Remove them from the voting classifier__."
   ]
  },
  {
   "cell_type": "code",
   "execution_count": 39,
   "metadata": {},
   "outputs": [
    {
     "name": "stdout",
     "output_type": "stream",
     "text": [
      "accuracy: 0.980\n",
      "precision: 0.966\n",
      "recall: 0.898\n"
     ]
    }
   ],
   "source": [
    "del voting_clf.estimators[-2], voting_clf.estimators[1]\n",
    "\n",
    "voting_cv = cross_validate(voting_clf, X_train_prepared, y_train, cv=5, scoring=scorers, n_jobs=-1)\n",
    "print_scores(voting_cv)"
   ]
  },
  {
   "cell_type": "markdown",
   "metadata": {},
   "source": [
    "Better performances."
   ]
  },
  {
   "cell_type": "markdown",
   "metadata": {},
   "source": [
    "## 5. Performances on the Test \n",
    "\n",
    "Preprocess the test set."
   ]
  },
  {
   "cell_type": "code",
   "execution_count": 40,
   "metadata": {},
   "outputs": [],
   "source": [
    "X_test_prepared = DigitalizeMail(ham_dict=ham_words, \n",
    "                                  spam_dict=spam_words, \n",
    "                                  subj_dict=spam_subj_words).transform(X_test) "
   ]
  },
  {
   "cell_type": "markdown",
   "metadata": {},
   "source": [
    "Train the voting classifier in the whole train set and evaluate the perforamances on the test set. \n",
    "For the final evaluation we use also the __Recall__ and __Precision scores__."
   ]
  },
  {
   "cell_type": "code",
   "execution_count": 41,
   "metadata": {
    "scrolled": true
   },
   "outputs": [
    {
     "name": "stdout",
     "output_type": "stream",
     "text": [
      "Score on the test set: 0.986\n",
      "Precision: 0.969\n",
      "Recall: 0.940\n"
     ]
    }
   ],
   "source": [
    "from sklearn.metrics import precision_score, recall_score\n",
    "\n",
    "voting_clf.fit(X_train_prepared, y_train)\n",
    "y_test_pred = voting_clf.predict(X_test_prepared)\n",
    "print('Score on the test set: %.3f' % accuracy_score(y_test, y_test_pred))\n",
    "print('Precision: %.3f' % precision_score(y_test, y_test_pred))\n",
    "print('Recall: %.3f' % recall_score(y_test, y_test_pred))"
   ]
  },
  {
   "cell_type": "markdown",
   "metadata": {},
   "source": [
    "Very good! __Precision__ is quite high.\n",
    "Now take a look at the confusion matrix."
   ]
  },
  {
   "cell_type": "code",
   "execution_count": 42,
   "metadata": {},
   "outputs": [
    {
     "name": "stdout",
     "output_type": "stream",
     "text": [
      "[[558   3]\n",
      " [  6  94]]\n"
     ]
    }
   ],
   "source": [
    "from sklearn.metrics import confusion_matrix\n",
    "\n",
    "print(confusion_matrix(y_test, y_test_pred))"
   ]
  },
  {
   "cell_type": "markdown",
   "metadata": {},
   "source": [
    "Wow __only 3 false positive__ (ham classified as spam).\n",
    "\n",
    "Take a closer look at FP mails."
   ]
  },
  {
   "cell_type": "code",
   "execution_count": 43,
   "metadata": {},
   "outputs": [
    {
     "name": "stdout",
     "output_type": "stream",
     "text": [
      "**** MAIL NUMBER 240 ****\n",
      "\n",
      "Netscape Valued Customer:\n",
      "\n",
      "Announcing the NEW Netscape 7.0 Browser!\n",
      "Download it now for FREE!\n",
      "\n",
      "For more information and to download now, click here:\n",
      "http://dms-www01.netcenter.com/cgi-bin/gx.cgi/mcp?p=041Lnf041LoE51b9er012000W2TBvFJ\n",
      "\n",
      "Get Netscape 7.0 - the Fastest Netscape Browser Ever!\n",
      "\n",
      "It's easier than ever to upgrade to Netscape 7.0, and\n",
      "keep your bookmarks and browser settings.\n",
      "\n",
      "Upgrade to the NEW Netscape 7.0, and get the most from\n",
      "your time on-line.\n",
      "\n",
      "And Netscape 7.0 is also available on CD for FREE!\n",
      "\n",
      "Click here to order the CD and Guidebook:\n",
      "http://dms-www01.netcenter.com/cgi-bin/gx.cgi/mcp?p=041Lnh041LoE51b9er012000W2TBvFJ\n",
      "\n",
      "The Netscape Browser Team\n",
      "\n",
      "\n",
      "----------------------------------------------------------- \n",
      "Netscape respects your online time and Internet privacy. \n",
      "If you would prefer not to receive future email messages \n",
      "from Netscape Netbusiness, please click on the following \n",
      "link or simply reply to this email and type \"REMOVE\" in the \n",
      "subject line. \n",
      "PLEASE NOTE: DO NOT CLICK ON THE LINK UNLESS YOU \n",
      "WANT TO UNSUBSCRIBE. \n",
      "http://dms-www01.netcenter.com/cgi-bin/gx.cgi/mcp?p=041LoB3SLb41LoE51b9er012000W2TBvFJ \n",
      "\n",
      "You are subscribed with:[ler@lerami.lerctr.org]\n",
      "(c) 2002 Netscape. All Rights Reserved. Privacy Policy, Terms \n",
      "of Service.\n",
      "\n",
      "http://channels.netscape.com/ns/browsers/download.jsp\n",
      "\n",
      "\n",
      "\n",
      "Netscape 7.0\n",
      "\n",
      "\n",
      "\n",
      "\n",
      "\n",
      "\n",
      "\n",
      "\n",
      "\n",
      "\n",
      "\n",
      "Announcing the\n",
      "NEW\n",
      "Netscape 7.0 Browser!\n",
      "Download it now for \n",
      "FREE!\n",
      "\n",
      "\n",
      "\n",
      "\n",
      "\n",
      "\n",
      "\n",
      "\n",
      "\n",
      "\n",
      "\n",
      "\n",
      "\n",
      "\n",
      "\n",
      "\n",
      "\n",
      "\n",
      "\n",
      "\n",
      "\n",
      "\n",
      "Get Netscape 7.0 -\n",
      "\t\tthe Fastest NetscapeBrowser Ever!\n",
      "\n",
      "\n",
      "\n",
      "\n",
      "\n",
      "\n",
      "\n",
      "It's easier than ever to upgrade to Netscape 7.0,\n",
      "\t\tand keep your bookmarks and browser settings.\n",
      "\t\tUpgrade to the NEW Netscape 7.0, and get the\n",
      "\t\tmost from your time on-line.\n",
      "\n",
      "\n",
      "\n",
      "\n",
      "\n",
      "\n",
      "\n",
      "\n",
      "\n",
      "\n",
      "\n",
      "\n",
      "\n",
      "\n",
      "\n",
      "To Unsubscribe, click here and follow the instructions on the following page\n",
      "\t- or simply reply to this e-mail and type \"REMOVE\" in the subject line.\n",
      "\t© 2002 Netscape, All Rights Reserved. Legal & Privacy Notices\n",
      "\n",
      "\n",
      "\n",
      "\n",
      "\n",
      "\n",
      "\n",
      "**** MAIL NUMBER 304 ****\n",
      "\n",
      "-----------------------------------------------------------------\n",
      "                         Back to school!\n",
      "           Find out what's in store for September with\n",
      "               a One Month Forecast for only $4.95!\n",
      "  http://www.chartshop.com/scripts/runisa.dll?AO:495SHOP::DAILY\n",
      "-----------------------------------------------------------------\n",
      "\n",
      "Greetings  --\n",
      "\n",
      "Here is your horoscope for Saturday, August 31:\n",
      "\n",
      "August is over, and Aquarius is looking forward to next month's new \n",
      "season. Excitement is tinged with anticipation. A relationship benefits \n",
      "wonderfully from your current surge of vitality.\n",
      "\n",
      "\n",
      "Until tomorrow,\n",
      "\n",
      "Kelli Fox, Your Astrologer\n",
      "http://www.astrology.com\n",
      "http://www.chartshop.com\n",
      "http://www.ivillage.com\n",
      "\n",
      "Sneak a peek at the future with tomorrow's horoscope! \n",
      "http://horoscopes.astrology.com/index/dailyindextom.html\n",
      "\n",
      "-----------------------------------------------------------------\n",
      "                      Looking for Mr. Right?\n",
      "            Take this quiz to narrow down your search.\n",
      "     http://quiz.ivillage.com/astrology/tests/mrrightquiz.htm\n",
      "-----------------------------------------------------------------\n",
      "\n",
      "If you do not wish to continue receiving your daily horoscope\n",
      "by email, please click on the following link.\n",
      "http://www.astrology.com/unsubscribe/dailyhoroscope.html\n",
      "If you would like to edit your current information or add more signs, \n",
      "please click on the following link, or copy and paste it to your web \n",
      "browser.\n",
      "http://www.astrology.com/freedaily/\n",
      "If you choose to reply to this message, please include the following lines \n",
      "in the body of your email:\n",
      "email recipient: mothlight@fastmail.fm\n",
      "\n",
      "\n",
      "\n",
      "---\n",
      "annmn:[73eyn03eyn4prCg0120022u003eyn0mHe4BHe7m]\n",
      "\n",
      "\n",
      "\n",
      "\n",
      "**** MAIL NUMBER 461 ****\n",
      "\n",
      "\n",
      "\n",
      "\n",
      "BIG 12 OR BUST\n",
      "\n",
      "\n",
      "\n",
      "\n",
      "\n",
      "\n",
      "\n",
      "\n",
      "\n",
      "\n",
      " \n",
      "\n",
      "\n",
      "\n",
      "\n",
      "\n",
      "\n",
      "\n",
      "\n",
      "\n",
      "\n",
      "This\n",
      "weekend you can see the Nebraska Cornhuskers, Utah State, Kansas\n",
      "State and the University of Louisiana/Monroe - LIVE AND EXCLUSIVELY\n",
      "ON THE INTERNET! \n",
      "\n",
      "FOXSports.com\n",
      "presents BIG 12 football! Now you can see your favorite\n",
      "teams play, even if you can't get to a live game or it's not\n",
      "on TV.\n",
      "\n",
      "FOXSports.com has partnered with RealOne to bring Big 12 football\n",
      "fans LIVE webcasts that put you in the stands - even from home.\n",
      "\n",
      "The best part... you can get ALL of the webcasts and exclusive\n",
      "Big 12 news, highlights and coverage by becoming a member of\n",
      "RealOne SuperPass. With SuperPass you get:\n",
      "\n",
      "\n",
      "All\n",
      "Big 12 webcasts, highlights and exclusive coverage\n",
      "Unaired\n",
      "video footage from FOX Sports and FOX Sports Net\n",
      "Exclusive\n",
      "video from channels like NASCAR.com and MLB.com\n",
      "Plus,\n",
      "top news content from ABCNews.com and CNN.com\n",
      "\n",
      "\n",
      "True to your school? Only want certain games? You can get them individually too!\n",
      "\n",
      "\n",
      "Sign up\n",
      "now! Click\n",
      "here.\n",
      "Want more\n",
      "details? Click\n",
      "here.\n",
      "\n",
      "\n",
      "\n",
      "\n",
      "\n",
      "\n",
      "To unsubscribe from future FOXSports.com emails, click\n",
      "here.\n",
      "\n",
      "\n",
      "\n",
      "\n",
      "\n",
      "\n",
      "\n",
      "\n",
      "\n",
      "\n",
      "\n",
      "\n",
      "\n",
      "\n",
      "\n",
      "\n",
      "\n",
      "\n",
      "\n",
      "\n",
      "\n",
      "\n",
      "\n",
      "\n",
      "\n",
      "\n"
     ]
    }
   ],
   "source": [
    "false_negative = (y_test==0)&(y_test_pred==1)\n",
    "fp_neg = np.argwhere(false_negative).flatten()\n",
    "\n",
    "for el in fp_neg:\n",
    "    print('**** MAIL NUMBER {} ****\\n'.format(el))\n",
    "    print(read_mail(X_test[el]))\n"
   ]
  },
  {
   "cell_type": "markdown",
   "metadata": {},
   "source": [
    "They are __1 advertising e-mail__ and a mail written in __Japanese__ (unreadable).\n",
    "\n",
    "### 5.1 Performances of the individual classifiers\n",
    "\n",
    "Check the performances of the individual classifiers."
   ]
  },
  {
   "cell_type": "code",
   "execution_count": 44,
   "metadata": {
    "scrolled": false
   },
   "outputs": [
    {
     "data": {
      "text/html": [
       "<div>\n",
       "<style scoped>\n",
       "    .dataframe tbody tr th:only-of-type {\n",
       "        vertical-align: middle;\n",
       "    }\n",
       "\n",
       "    .dataframe tbody tr th {\n",
       "        vertical-align: top;\n",
       "    }\n",
       "\n",
       "    .dataframe thead th {\n",
       "        text-align: right;\n",
       "    }\n",
       "</style>\n",
       "<table border=\"1\" class=\"dataframe\">\n",
       "  <thead>\n",
       "    <tr style=\"text-align: right;\">\n",
       "      <th></th>\n",
       "      <th>log_reg</th>\n",
       "      <th>sgd_clf</th>\n",
       "      <th>forest_clf_acc</th>\n",
       "      <th>knn_clf</th>\n",
       "      <th>svc_clf</th>\n",
       "    </tr>\n",
       "  </thead>\n",
       "  <tbody>\n",
       "    <tr>\n",
       "      <th>Accuracy</th>\n",
       "      <td>0.970</td>\n",
       "      <td>0.958</td>\n",
       "      <td>0.985</td>\n",
       "      <td>0.943</td>\n",
       "      <td>0.961</td>\n",
       "    </tr>\n",
       "    <tr>\n",
       "      <th>Precision</th>\n",
       "      <td>0.885</td>\n",
       "      <td>0.891</td>\n",
       "      <td>0.959</td>\n",
       "      <td>0.816</td>\n",
       "      <td>0.930</td>\n",
       "    </tr>\n",
       "    <tr>\n",
       "      <th>Recall</th>\n",
       "      <td>0.920</td>\n",
       "      <td>0.820</td>\n",
       "      <td>0.940</td>\n",
       "      <td>0.800</td>\n",
       "      <td>0.800</td>\n",
       "    </tr>\n",
       "  </tbody>\n",
       "</table>\n",
       "</div>"
      ],
      "text/plain": [
       "           log_reg  sgd_clf  forest_clf_acc  knn_clf  svc_clf\n",
       "Accuracy     0.970    0.958           0.985    0.943    0.961\n",
       "Precision    0.885    0.891           0.959    0.816    0.930\n",
       "Recall       0.920    0.820           0.940    0.800    0.800"
      ]
     },
     "execution_count": 44,
     "metadata": {},
     "output_type": "execute_result"
    }
   ],
   "source": [
    "test_scores_dict = {}\n",
    "\n",
    "for clf, name in zip([log_reg, sgd_clf, forest_clf, knn_clf, svc_clf], \n",
    "                     ['log_reg', 'sgd_clf', 'forest_clf_acc', 'knn_clf', 'svc_clf']):\n",
    "    clf.fit(X_train_prepared, y_train)\n",
    "    y_test_pred = clf.predict(X_test_prepared)\n",
    "    test_scores_dict[name] = (round(accuracy_score(y_test, y_test_pred), 3), \n",
    "                              round(precision_score(y_test, y_test_pred), 3),\n",
    "                              round(recall_score(y_test, y_test_pred), 3)) \n",
    "    \n",
    "test_scores_df = DataFrame(test_scores_dict, index=['Accuracy', 'Precision', 'Recall'])\n",
    "test_scores_df"
   ]
  },
  {
   "cell_type": "markdown",
   "metadata": {},
   "source": [
    "The __Voting Classifier outperforms all the individual ones__."
   ]
  },
  {
   "cell_type": "markdown",
   "metadata": {},
   "source": [
    "### 5.2 Feature importance\n",
    "\n",
    "Take a look at the most important features.\n",
    "\n",
    "Use the `Features importance` method of the `RandomForestClassifier` algorithm. "
   ]
  },
  {
   "cell_type": "code",
   "execution_count": 45,
   "metadata": {},
   "outputs": [],
   "source": [
    "def save_fig(fig_id, tight_layout=True, fig_extension=\"png\", resolution=300):\n",
    "    path = 'images/'+fig_id+'.'+fig_extension\n",
    "    print(\"Saving figure\", fig_id)\n",
    "    if tight_layout:\n",
    "        plt.tight_layout()\n",
    "    plt.savefig(path, format=fig_extension, dpi=resolution)"
   ]
  },
  {
   "cell_type": "markdown",
   "metadata": {},
   "source": [
    "Here's the features that contributed more than $1\\%$ to the decision process."
   ]
  },
  {
   "cell_type": "code",
   "execution_count": 46,
   "metadata": {
    "scrolled": true
   },
   "outputs": [
    {
     "name": "stdout",
     "output_type": "stream",
     "text": [
      "Saving figure feature_importances\n"
     ]
    },
    {
     "data": {
      "image/png": "[encoded data removed]",
      "text/plain": [
       "<Figure size 1080x360 with 1 Axes>"
      ]
     },
     "metadata": {
      "needs_background": "light"
     },
     "output_type": "display_data"
    }
   ],
   "source": [
    "%matplotlib inline\n",
    "\n",
    "import matplotlib.pyplot as plt\n",
    "\n",
    "scores = forest_clf['rnd'].feature_importances_\n",
    "above_1pct_scores = scores[scores>.01]*100\n",
    "\n",
    "total_feat = forest_clf['pre']['select_features'].total_features    # -> List of the total features used\n",
    "red_feat_pos = forest_clf['pre']['select_features'].red_feat_list   # -> Position of the reduced set of features\n",
    "red_feat = total_feat[red_feat_pos]                                 # -> List of the reduced set of features\n",
    "above_1pct_red_feat = red_feat[np.argwhere(scores>.01)].flatten()   # -> List of the most important features\n",
    "\n",
    "fig = plt.figure(figsize=(15,5))\n",
    "ax = plt.axes()\n",
    "(markers, stemlines, baseline) = ax.stem(list(range(len(above_1pct_scores))),\n",
    "                                         above_1pct_scores, use_line_collection=True)\n",
    "\n",
    "plt.setp(markers, marker='o', markersize=15, markeredgecolor=\"olive\", markeredgewidth=1)\n",
    "plt.setp(stemlines, linestyle=\"-\", color=\"olive\", linewidth=1)\n",
    "\n",
    "\n",
    "# x - axis\n",
    "ax.axes.get_xaxis().set_visible(False)\n",
    "ax.axes.set_xlim((-.5, len(above_1pct_scores)))\n",
    "\n",
    "# y - axis\n",
    "y_max = max(above_1pct_scores)+2\n",
    "ax.axes.set_ylim((0, y_max))\n",
    "old_ticks = ax.axes.get_yticks()\n",
    "ticks_labels = ['{}%'.format(digit) for digit in old_ticks]\n",
    "ax.axes.set_yticklabels(ticks_labels)\n",
    "ax.axes.set_ylabel('Importance')\n",
    "ax.axes.set_title('Features importance')\n",
    "\n",
    "ax.annotate('', xy=(10.8, -.5), xytext=(13.2,-.5),\n",
    "            arrowprops=dict(arrowstyle='<->', facecolor='red'),\n",
    "            annotation_clip=False)\n",
    "\n",
    "ax.annotate('email type', xy=(11.6, -1), annotation_clip=False)\n",
    "\n",
    "for index, feature in enumerate(above_1pct_red_feat):\n",
    "    ax.annotate(feature, xy=(index, above_1pct_scores[index]+.5), annotation_clip=False, rotation=50)\n",
    "\n",
    "save_fig('feature_importances')\n",
    "plt.show()"
   ]
  },
  {
   "cell_type": "markdown",
   "metadata": {},
   "source": [
    "### 5.3 Data Clustering\n",
    "\n",
    "Let's see how the e-mails dispose in the space of the most important features. \n",
    "Use the __t-SNE__ to reduce the dimensionality of the space."
   ]
  },
  {
   "cell_type": "code",
   "execution_count": 47,
   "metadata": {},
   "outputs": [],
   "source": [
    "from sklearn.decomposition import PCA\n",
    "from sklearn.manifold import TSNE\n",
    "from sklearn.base import clone\n",
    "\n",
    "pca_tsne = Pipeline([\n",
    "    (\"pca\", PCA(n_components=0.95, random_state=42)),\n",
    "    (\"tsne\", TSNE(n_components=2, random_state=42)),\n",
    "])\n",
    "\n",
    "forest_prep = clone(forest_clf['pre'])\n",
    "X_prep_forest = forest_prep.fit_transform(X_train_prepared)\n",
    "\n",
    "X_pca_tsne_reduced = pca_tsne.fit_transform(X_prep_forest)"
   ]
  },
  {
   "cell_type": "code",
   "execution_count": 48,
   "metadata": {},
   "outputs": [
    {
     "name": "stdout",
     "output_type": "stream",
     "text": [
      "Saving figure clustering\n"
     ]
    },
    {
     "data": {
      "image/png": "[encoded data removed]",
      "text/plain": [
       "<Figure size 1080x576 with 1 Axes>"
      ]
     },
     "metadata": {
      "needs_background": "light"
     },
     "output_type": "display_data"
    }
   ],
   "source": [
    "fig = plt.figure(figsize=(15,8))\n",
    "ax = fig.add_subplot(111)\n",
    "ax.axes.get_xaxis().set_visible(False)\n",
    "ax.axes.get_yaxis().set_visible(False)\n",
    "\n",
    "sne_ham = ax.scatter(X_pca_tsne_reduced[y_train==0][:,0], X_pca_tsne_reduced[y_train==0][:, 1], s=10, alpha=.8)\n",
    "sne_ham.set_label('Spam')\n",
    "\n",
    "sne_hspam = ax.scatter(X_pca_tsne_reduced[y_train==1][:,0], \n",
    "                       X_pca_tsne_reduced[y_train==1][:, 1], \n",
    "                       c='olive', s=10, alpha=.5)\n",
    "sne_hspam.set_label('Ham')\n",
    "\n",
    "ax.legend(fontsize='x-large')\n",
    "\n",
    "save_fig('clustering')\n",
    "plt.show()"
   ]
  },
  {
   "cell_type": "code",
   "execution_count": null,
   "metadata": {},
   "outputs": [],
   "source": []
  }
 ],
 "metadata": {
  "kernelspec": {
   "display_name": "Python 3",
   "language": "python",
   "name": "python3"
  },
  "language_info": {
   "codemirror_mode": {
    "name": "ipython",
    "version": 3
   },
   "file_extension": ".py",
   "mimetype": "text/x-python",
   "name": "python",
   "nbconvert_exporter": "python",
   "pygments_lexer": "ipython3",
   "version": "3.7.6"
  }
 },
 "nbformat": 4,
 "nbformat_minor": 2
}
