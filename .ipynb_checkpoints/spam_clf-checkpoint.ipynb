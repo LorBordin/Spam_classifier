{
 "cells": [
  {
   "cell_type": "code",
   "execution_count": 31,
   "metadata": {
    "scrolled": true
   },
   "outputs": [
    {
     "name": "stdout",
     "output_type": "stream",
     "text": [
      "Number of files 2551.\n",
      "Number of files 250.\n",
      "Number of files 501.\n"
     ]
    }
   ],
   "source": [
    "import tarfile\n",
    "import numpy as np\n",
    "import email\n",
    "import email.policy\n",
    "from urllib.request import urlretrieve\n",
    "\n",
    "def download_and_unzip_content(filename):\n",
    "    files_arr = []\n",
    "    path = 'Data/'\n",
    "    \n",
    "    try:\n",
    "        tar = tarfile.open(path+filename)\n",
    "        print('Number of files {}.'.format(len(tar.getmembers()[1:])))\n",
    "    \n",
    "        for file in tar.getmembers()[1:]:\n",
    "            f = tar.extractfile(file)\n",
    "            content = f.read()\n",
    "            f.close()\n",
    "            text = email.parser.BytesParser(policy=email.policy.default).parsebytes(content)\n",
    "            files_arr.append(text)\n",
    "    \n",
    "        tar.close()\n",
    "    \n",
    "    except FileNotFoundError:\n",
    "        print('File not found. Downloading it.')\n",
    "        url = 'https://spamassassin.apache.org/old/publiccorpus/'\n",
    "        urlretrieve(url+filename, path+filename)\n",
    "        download_and_unzip_content(filename)\n",
    "        return files_arr\n",
    "\n",
    "easy_ham = download_and_unzip_content(\"20021010_easy_ham.tar.bz2\")\n",
    "hard_ham = download_and_unzip_content(\"20021010_hard_ham.tar.bz2\")\n",
    "spam = download_and_unzip_content(\"20021010_spam.tar.bz2\")"
   ]
  },
  {
   "cell_type": "markdown",
   "metadata": {},
   "source": [
    "Look at the different email structures."
   ]
  },
  {
   "cell_type": "code",
   "execution_count": 24,
   "metadata": {},
   "outputs": [],
   "source": [
    "from collections import Counter\n",
    "\n",
    "def get_email_structure(email):\n",
    "    if isinstance(email, str):\n",
    "        return email\n",
    "    payload = email.get_payload()\n",
    "    if isinstance(payload, list):\n",
    "        return \"multipart({})\".format(','.join([\n",
    "            get_email_structure(sub_email)\n",
    "            for sub_email in payload\n",
    "        ]))\n",
    "    else:\n",
    "        return email.get_content_type()\n",
    "    \n",
    "\n",
    "def structures_counter(emails):\n",
    "    structures = Counter()\n",
    "    for email in emails:\n",
    "        structure = get_email_structure(email)\n",
    "        structures[structure] += 1\n",
    "    return structures"
   ]
  },
  {
   "cell_type": "code",
   "execution_count": 25,
   "metadata": {},
   "outputs": [
    {
     "data": {
      "text/plain": [
       "[('text/plain', 222),\n",
       " ('text/html', 181),\n",
       " ('multipart(text/plain,text/html)', 45),\n",
       " ('multipart(text/html)', 19),\n",
       " ('multipart(text/plain)', 19),\n",
       " ('multipart(multipart(text/html))', 5),\n",
       " ('multipart(text/plain,image/jpeg)', 3),\n",
       " ('multipart(text/html,application/octet-stream)', 2),\n",
       " ('multipart(multipart(text/plain,text/html),image/gif)', 1),\n",
       " ('multipart(text/html,text/plain)', 1),\n",
       " ('multipart(text/plain,application/octet-stream)', 1),\n",
       " ('multipart(multipart(text/html),application/octet-stream,image/jpeg)', 1),\n",
       " ('multipart/alternative', 1)]"
      ]
     },
     "execution_count": 25,
     "metadata": {},
     "output_type": "execute_result"
    }
   ],
   "source": [
    "structures_counter(spam).most_common()"
   ]
  },
  {
   "cell_type": "markdown",
   "metadata": {},
   "source": [
    "Structure is a useful information to have!\n",
    "In particular almost no ham mails have html format, while no spam mail have signature."
   ]
  },
  {
   "cell_type": "code",
   "execution_count": 4,
   "metadata": {},
   "outputs": [],
   "source": [
    "def structures_counter_simple(emails):\n",
    "    structures = Counter()\n",
    "    for email in emails:\n",
    "        structure = email.get_content_type()\n",
    "        structures[structure] += 1\n",
    "    return structures"
   ]
  },
  {
   "cell_type": "code",
   "execution_count": 5,
   "metadata": {},
   "outputs": [
    {
     "name": "stdout",
     "output_type": "stream",
     "text": [
      "Return-Path : <george@vccomputers.ie>\n",
      "Delivered-To : zzzz@localhost.example.com\n",
      "Received : from localhost (localhost [127.0.0.1])\tby phobos.labs.example.com (Postfix) with ESMTP id 2C0B043F9B\tfor <zzzz@localhost>; Mon, 26 Aug 2002 12:49:47 -0400 (EDT)\n",
      "Received : from phobos [127.0.0.1]\tby localhost with IMAP (fetchmail-5.9.0)\tfor zzzz@localhost (single-drop); Mon, 26 Aug 2002 17:49:47 +0100 (IST)\n",
      "Received : from trinity.vccomputers.ie (vccomp.colo.hosteurope.com    [217.199.168.242]) by dogma.slashnull.org (8.11.6/8.11.6) with ESMTP id    g7QGgPZ00919 for <webmaster@efi.ie>; Mon, 26 Aug 2002 17:42:25 +0100\n",
      "Received : from amy (ts01-062.letterkenny.indigo.ie [194.125.139.189]) by    trinity.vccomputers.ie (8.12.1/8.12.1) with SMTP id g7QFuHMI000859;    Mon, 26 Aug 2002 16:56:18 +0100\n",
      "Message-Id : <003a01c24d19$f7f142e0$010ea8c0@amy>\n",
      "From : George Savva <george@vccomputers.ie>\n",
      "To : Undisclosed-Recipient\n",
      "Subject : Hosting from ?6.50 per month\n",
      "Date : Mon, 26 Aug 2002 16:59:52 +0100\n",
      "MIME-Version : 1.0\n",
      "X-Priority : 3\n",
      "X-Msmail-Priority : Normal\n",
      "X-Mailer : Microsoft Outlook Express 6.00.2600.0000\n",
      "X-Mimeole : Produced By Microsoft MimeOLE V6.00.2600.0000\n",
      "Content-Type : multipart/alternative; boundary=\"----=_NextPart_000_0037_01C24D21.FF37C620\"\n"
     ]
    }
   ],
   "source": [
    "for header, value in spam[0].items():\n",
    "    print(header, ':', value)"
   ]
  },
  {
   "cell_type": "markdown",
   "metadata": {},
   "source": [
    "## Split into training and test datsets"
   ]
  },
  {
   "cell_type": "code",
   "execution_count": 6,
   "metadata": {},
   "outputs": [],
   "source": [
    "def split_train_test_set(ratio, spam, ham1, ham2, seed = 42):\n",
    "    \n",
    "    print(\"The output is the following: X_train, X_test, y_train, y_test.\")\n",
    "    print(\"0: spam, 1: ham.\")\n",
    "    \n",
    "    # Split ham and spam into train and test datsets\n",
    "    X_train_spam = spam[int(ratio*len(spam)):]\n",
    "    X_train_ham1 = ham1[int(ratio*len(ham1)):]\n",
    "    X_train_ham2 = ham2[int(ratio*len(ham2)):]\n",
    "    \n",
    "    # Generate the labels\n",
    "    X_test_spam = spam[:int(ratio*len(spam))]\n",
    "    X_test_ham1 = ham1[:int(ratio*len(ham1))]\n",
    "    X_test_ham2 = ham2[:int(ratio*len(ham2))]\n",
    "    \n",
    "    # Join the train and test datsets\n",
    "    X_train = np.array(X_train_spam + X_train_ham1 + X_train_ham2)\n",
    "    X_test = np.array(X_test_spam + X_test_ham1 + X_test_ham2)\n",
    "    \n",
    "    # Shuffle the datasets\n",
    "    train_shuffle = np.random.RandomState(seed=seed).permutation(len(X_train))\n",
    "    test_shuffle = np.random.RandomState(seed=seed).permutation(len(X_test))\n",
    "    \n",
    "    y_train = np.concatenate([np.zeros(len(X_train_spam)), np.ones(len(X_train_ham1) + len(X_train_ham2))])\n",
    "    y_test = np.concatenate([np.zeros(len(X_test_spam)), np.ones(len(X_test_ham1) + len(X_test_ham2))])\n",
    "    \n",
    "    return X_train[train_shuffle], X_test[test_shuffle], y_train[train_shuffle], y_test[test_shuffle]\n",
    "        "
   ]
  },
  {
   "cell_type": "code",
   "execution_count": 7,
   "metadata": {},
   "outputs": [
    {
     "name": "stdout",
     "output_type": "stream",
     "text": [
      "The output is the following: X_train, X_test, y_train, y_test.\n",
      "0: spam, 1: ham.\n"
     ]
    }
   ],
   "source": [
    "X_train, X_test , y_train, y_test = split_train_test_set(.2, spam, easy_ham, hard_ham)"
   ]
  },
  {
   "cell_type": "code",
   "execution_count": 204,
   "metadata": {
    "scrolled": false
   },
   "outputs": [
    {
     "data": {
      "text/plain": [
       "[array(['multipart/alt', 'multipart/mix', 'multipart/rel', 'multipart/rep',\n",
       "        'multipart/sig', 'text/html', 'text/plain'], dtype='<U13')]"
      ]
     },
     "execution_count": 204,
     "metadata": {},
     "output_type": "execute_result"
    }
   ],
   "source": [
    "simple_structures = structures_counter_simple(X_train)\n",
    "simple_structures\n",
    "\n",
    "categories = [np.array(['multipart/alt', 'multipart/mix', 'multipart/rel', 'multipart/rep','multipart/sig', \n",
    "                     'text/html', 'text/plain'], dtype='<U13')]\n",
    "categories"
   ]
  },
  {
   "cell_type": "markdown",
   "metadata": {},
   "source": [
    "## Prepare Data"
   ]
  },
  {
   "cell_type": "code",
   "execution_count": 9,
   "metadata": {},
   "outputs": [],
   "source": [
    "import re\n",
    "from bs4 import BeautifulSoup\n",
    "import nltk\n",
    "from nltk.corpus import stopwords\n",
    "\n",
    "def read_mail(email):\n",
    "    mail_text = ''\n",
    "    \n",
    "    for part in email.walk():\n",
    "        ctype = part.get_content_type()\n",
    "        if ctype in ('text/html', 'text/plain'):   \n",
    "            try: \n",
    "                content = part.get_content()\n",
    "            except:\n",
    "                content = str(part.get_payload())   \n",
    "                \n",
    "            soup = BeautifulSoup(content, 'html.parser')\n",
    "            mail_text += soup.get_text()\n",
    "            \n",
    "    return mail_text\n",
    "\n",
    "\n",
    "# Collect the words from a mail\n",
    "def collect_words(mail_string):     \n",
    "    \n",
    "    #mail_string = read_mail(email)\n",
    "    \n",
    "    re_url1 = '(https?:\\/\\/(?:www\\.|(?!www))[a-zA-Z0-9][a-zA-Z0-9-]+[a-zA-Z0-9]\\.[^\\s]{2,}'\n",
    "    re_url2 = '|www\\.[a-zA-Z0-9][a-zA-Z0-9-]+[a-zA-Z0-9]\\.[^\\s]{2,}'\n",
    "    re_url3 = '|https?:\\/\\/(?:www\\.|(?!www))[a-zA-Z0-9]+\\.[^\\s]{2,}|www\\.[a-zA-Z0-9]+\\.[^\\s]{2,})'\n",
    "    re_url = re_url1+re_url2+re_url3\n",
    "    \n",
    "    reg_1 = re.compile(re_url)             # -> Remove ULRs\n",
    "    reg_2 = re.compile(r'[0-9]+')          # -> Remove numbers\n",
    "    reg_3 = re.compile(r'[^\\w\\s]')         # -> Remove punctuation\n",
    "    reg_4 = re.compile(r'[\\n\\r\\t]')        # -> Remove newlines, tabs, etc..\n",
    "    \n",
    "    mail_string = mail_string.lower()\n",
    "    mail_string = reg_1.sub(\"URL\", mail_string)\n",
    "    mail_string = reg_2.sub(\"NUMBER\", mail_string)\n",
    "    mail_string = reg_3.sub(\" \", mail_string)\n",
    "    mail_string = reg_4.sub(\" \", mail_string)\n",
    "    \n",
    "    return mail_string.split()\n",
    "\n",
    "# Generate a dictionary with the frequency of all the words in a given set.\n",
    "def make_dict(mail_set): \n",
    "    dictionary = Counter()\n",
    "    common_words = np.array(stopwords.words('english'))\n",
    "    \n",
    "    for mail in mail_set:\n",
    "        dictionary += Counter(collect_words(read_mail(mail))) \n",
    "    \n",
    "    # Remove the English most common words\n",
    "        single_letters = ['e','c','x','g','p','r','n','f','u','l']\n",
    "        for letter in single_letters:\n",
    "            del dictionary[letter]\n",
    "        \n",
    "\n",
    "    for word in common_words:\n",
    "        del dictionary[word]\n",
    "     \n",
    "    return dictionary\n",
    "\n",
    "\n",
    "# Collect the most frequent stems from a given set of mails\n",
    "def count_stems(mail_set, n=1000):\n",
    "    stemmer = nltk.PorterStemmer()\n",
    "    stems_set = Counter()\n",
    "    for mail in mail_set:\n",
    "        words = collect_words(mail)\n",
    "        for word in words:\n",
    "            stems_set[stemmer.stem(word)] += 1\n",
    "    \n",
    "    return most_common_dic(stems_set, n)\n",
    "\n",
    "# Collect the words from the mail subjects\n",
    "def make_subj_dict(mail_set, n=100):  # return the most frequent words \n",
    "    dictionary = Counter()\n",
    "    common_words = np.array(stopwords.words('english'))\n",
    "    \n",
    "    for mail in mail_set:\n",
    "        subj_string = str(mail['Subject'])\n",
    "        dictionary += Counter(collect_words(subj_string)) \n",
    "    \n",
    "    # Remove the English most common words\n",
    "    single_letters = ['e','c','x','g','p','r','n','f','u','l']\n",
    "    for letter in single_letters:\n",
    "        del dictionary[letter]\n",
    "        \n",
    "    for word in common_words:\n",
    "        del dictionary[word]\n",
    "     \n",
    "    return dictionary\n",
    "\n",
    "\n",
    "\n",
    "# Generate a vector with the frequency of the most frequent words in a given mail\n",
    "def vectorize(mail, dictionary, n_words, stem_vocabulary=False, subject=False):\n",
    "    freq_vec = np.zeros(n_words)\n",
    "    \n",
    "    if subject:\n",
    "        mail_words = make_subj_dict([mail])\n",
    "    else:\n",
    "        if stem_vocabulary:\n",
    "            mail_words = count_stems([mail])\n",
    "        else:\n",
    "            mail_words = make_dict([mail])\n",
    "    for index, key in list(enumerate(dictionary[:n_words])):\n",
    "        freq_vec[index] = mail_words[key]\n",
    "    return freq_vec\n"
   ]
  },
  {
   "cell_type": "code",
   "execution_count": 10,
   "metadata": {},
   "outputs": [],
   "source": [
    "from sklearn.base import BaseEstimator, TransformerMixin\n",
    "\n",
    "class PrepareMail(BaseEstimator, TransformerMixin):\n",
    "    \n",
    "    def __init__(self, ham_dict, spam_dict, subj_dict, n_words, spam_ham_ratio, stem_dict=False, n_subj_words=10): \n",
    "        self.ham_dict = ham_dict\n",
    "        self.spam_dict = spam_dict\n",
    "        self.subj_dict = subj_dict\n",
    "        self.stem_dict = stem_dict\n",
    "        self.n_words = n_words\n",
    "        self.spam_ham_ratio = spam_ham_ratio\n",
    "        self.n_subj_words = n_subj_words\n",
    "   \n",
    "    def fit(self, X, y=None):\n",
    "        \n",
    "        count = 0\n",
    "        index = 0\n",
    "        spam = []\n",
    "\n",
    "        while(count<self.spam_ham_ratio)and(index<len(self.spam_dict)):\n",
    "            if self.spam_dict[index] not in self.ham_dict[:self.n_words]:\n",
    "                spam.append(self.spam_dict[index])\n",
    "                count +=1\n",
    "            index +=1\n",
    "\n",
    "        spam = np.array(spam)\n",
    "        self.body_dict = np.concatenate([self.ham_dict[:(self.n_words-self.spam_ham_ratio)], spam]) \n",
    "        return self\n",
    "\n",
    "    \n",
    "    def transform(self, X, y=None):\n",
    "        \n",
    "        dict_vec = np.zeros((len(X), self.n_words))\n",
    "        email_type = np.zeros((len(X), 1), dtype='<U13')\n",
    "        subj_dict_vec = np.zeros((len(X), self.n_subj_words))\n",
    "        \n",
    "        for index, mail in enumerate(X):\n",
    "            dict_vec[index] = vectorize(mail, self.body_dict, self.n_words, self.stem_dict)\n",
    "            email_type[index] = mail.get_content_type()\n",
    "            subj_dict_vec[index] = vectorize(mail, self.subj_dict, self.n_subj_words, subject=True)\n",
    "        \n",
    "        \n",
    "        return np.concatenate([dict_vec, subj_dict_vec, email_type], axis=1)\n",
    "        "
   ]
  },
  {
   "cell_type": "markdown",
   "metadata": {},
   "source": [
    "### Generate the vocabularies"
   ]
  },
  {
   "cell_type": "code",
   "execution_count": 60,
   "metadata": {},
   "outputs": [],
   "source": [
    "## Generate the list with the most common words\n",
    "import warnings\n",
    "\n",
    "warnings.filterwarnings(\"ignore\", category=UserWarning, module='bs4') # shut up bs4 URL warning\n",
    "\n",
    "def most_common_words(n_words, txt_file, words_set=X_train, subj_dict=False):\n",
    "    try:\n",
    "        body_dict = []\n",
    "        file = open(txt_file, 'r')\n",
    "        for line in range(n_words):\n",
    "            body_dict.append(file.readline().rstrip())\n",
    "        file.close()\n",
    "        body_dict = np.array(body_dict)\n",
    "    except FileNotFoundError:\n",
    "        if subj_dict:\n",
    "            body_dict = make_subj_dict(words_set)\n",
    "        else:\n",
    "            body_dict = make_dict(words_set)\n",
    "        body_dict = body_dict.most_common()\n",
    "        file = open(txt_file, 'w+')\n",
    "        for key, freq in body_dict:\n",
    "            file.write(str(key)+'\\n')\n",
    "        file.close()\n",
    "        body_dict = most_common_words(n_words, txt_file)\n",
    "    return body_dict\n",
    "\n",
    "comm_body_words = most_common_words(200, 'body_dict.txt')\n",
    "comm_spam_subj_words = most_common_words(100, 'spam_subj_dict.txt', words_set = X_train[y_train==0], subj_dict=True)\n",
    "comm_ham_words = most_common_words(200, 'ham_dict.txt', words_set=X_train[y_train==1])\n",
    "comm_spam_words = most_common_words(250, 'spam_dict.txt', words_set=X_train[y_train==0])\n"
   ]
  },
  {
   "cell_type": "code",
   "execution_count": 12,
   "metadata": {
    "scrolled": false
   },
   "outputs": [
    {
     "name": "stdout",
     "output_type": "stream",
     "text": [
      "NUMBER \t\t\t NUMBER\n",
      "URL \t\t\t free\n",
      "com \t\t\t URL\n",
      "font \t\t\t mv\n",
      "list \t\t\t money\n",
      "new \t\t\t email\n",
      "get \t\t\t mail\n",
      "one \t\t\t please\n",
      "use \t\t\t get\n",
      "time \t\t\t list\n"
     ]
    }
   ],
   "source": [
    "for word1, word2 in zip(comm_ham_words[:10], comm_spam_words[:10]):\n",
    "    print(word1, '\\t\\t\\t', word2)"
   ]
  },
  {
   "cell_type": "code",
   "execution_count": 66,
   "metadata": {},
   "outputs": [
    {
     "name": "stdout",
     "output_type": "stream",
     "text": [
      "['NUMBER' 'ilug' 'free' 'adv' 'rates' 'get' 'home' 'money' 'best'\n",
      " 'systemworks' 'new' 'low' 'year' 'social' 'clearance' 'zzzz' 'one'\n",
      " 'insurance' 'mortgage' 'online']\n"
     ]
    }
   ],
   "source": [
    "print(comm_spam_subj_words[:20])"
   ]
  },
  {
   "cell_type": "markdown",
   "metadata": {},
   "source": [
    "### Create the pipeline"
   ]
  },
  {
   "cell_type": "code",
   "execution_count": 201,
   "metadata": {},
   "outputs": [],
   "source": [
    "from sklearn.pipeline import Pipeline\n",
    "from sklearn.compose import ColumnTransformer\n",
    "from sklearn.preprocessing import OneHotEncoder\n",
    "from sklearn.preprocessing import StandardScaler\n",
    "\n",
    "preprocessing = ColumnTransformer([\n",
    "    ('num', StandardScaler(), slice(0,-1)),\n",
    "    ('cat', OneHotEncoder(categories=categories), [-1])\n",
    "])\n",
    "\n",
    "\n",
    "prepare_mail = Pipeline([\n",
    "    ('gen_features', PrepareMail(ham_dict=comm_ham_words, spam_dict=comm_spam_words, subj_dict=comm_spam_subj_words, \n",
    "                                 n_words=200, spam_ham_ratio=10, n_subj_words=23)),\n",
    "    ('preprocess', preprocessing )\n",
    "    ])"
   ]
  },
  {
   "cell_type": "markdown",
   "metadata": {},
   "source": [
    "## Train some model"
   ]
  },
  {
   "cell_type": "code",
   "execution_count": 202,
   "metadata": {},
   "outputs": [],
   "source": [
    "X_train_prepared = prepare_mail.fit_transform(X_train)"
   ]
  },
  {
   "cell_type": "markdown",
   "metadata": {},
   "source": [
    "### Dumb Model -- everything is ham"
   ]
  },
  {
   "cell_type": "code",
   "execution_count": 22,
   "metadata": {},
   "outputs": [
    {
     "data": {
      "text/plain": [
       "0.848221044663134"
      ]
     },
     "execution_count": 22,
     "metadata": {},
     "output_type": "execute_result"
    }
   ],
   "source": [
    "X_train_ham = X_train[y_train == 1]\n",
    "len(X_train_ham) / len(X_train)"
   ]
  },
  {
   "cell_type": "markdown",
   "metadata": {},
   "source": [
    "### Logistic Regression"
   ]
  },
  {
   "cell_type": "code",
   "execution_count": 203,
   "metadata": {},
   "outputs": [
    {
     "data": {
      "text/plain": [
       "0.9621497998856489"
      ]
     },
     "execution_count": 203,
     "metadata": {},
     "output_type": "execute_result"
    }
   ],
   "source": [
    "from sklearn.linear_model import LogisticRegression\n",
    "from sklearn.model_selection import cross_val_score\n",
    "\n",
    "log_reg = Pipeline([\n",
    "    ('pre', prepare_mail),\n",
    "    ('reg', LogisticRegression(solver='liblinear', random_state=42))\n",
    "])\n",
    "\n",
    "\n",
    "cross_val_score(log_reg, X_train, y_train, cv=5, scoring='accuracy', n_jobs=-1).mean()"
   ]
  },
  {
   "cell_type": "code",
   "execution_count": 205,
   "metadata": {},
   "outputs": [
    {
     "name": "stdout",
     "output_type": "stream",
     "text": [
      "Fitting 5 folds for each of 5 candidates, totalling 25 fits\n"
     ]
    },
    {
     "name": "stderr",
     "output_type": "stream",
     "text": [
      "[Parallel(n_jobs=-1)]: Using backend LokyBackend with 8 concurrent workers.\n",
      "[Parallel(n_jobs=-1)]: Done   2 tasks      | elapsed:   15.8s\n",
      "[Parallel(n_jobs=-1)]: Done  16 out of  25 | elapsed:   35.1s remaining:   19.7s\n",
      "[Parallel(n_jobs=-1)]: Done  22 out of  25 | elapsed:   51.3s remaining:    7.0s\n",
      "[Parallel(n_jobs=-1)]: Done  25 out of  25 | elapsed:   59.5s finished\n"
     ]
    },
    {
     "data": {
      "text/plain": [
       "RandomizedSearchCV(cv=5, error_score='raise-deprecating',\n",
       "                   estimator=Pipeline(memory=None,\n",
       "                                      steps=[('pre',\n",
       "                                              Pipeline(memory=None,\n",
       "                                                       steps=[('gen_features',\n",
       "                                                               PrepareMail(ham_dict=array(['NUMBER', 'URL', 'com', 'font', 'list', 'new', 'get', 'one', 'use',\n",
       "       'time', 'like', 'would', 'color', 'net', 'linux', 'mail', 'also',\n",
       "       'people', 'date', 'world', 'web', 'message', 'free', 'said', 'url',...\n",
       "                                                                            10,\n",
       "                                                                            11,\n",
       "                                                                            12,\n",
       "                                                                            13,\n",
       "                                                                            14,\n",
       "                                                                            15,\n",
       "                                                                            16,\n",
       "                                                                            17,\n",
       "                                                                            18,\n",
       "                                                                            19],\n",
       "                                        'pre__gen_features__spam_ham_ratio': [10,\n",
       "                                                                              11,\n",
       "                                                                              12,\n",
       "                                                                              13,\n",
       "                                                                              14,\n",
       "                                                                              15,\n",
       "                                                                              16,\n",
       "                                                                              17,\n",
       "                                                                              18,\n",
       "                                                                              19,\n",
       "                                                                              20,\n",
       "                                                                              21,\n",
       "                                                                              22,\n",
       "                                                                              23,\n",
       "                                                                              24,\n",
       "                                                                              25,\n",
       "                                                                              26,\n",
       "                                                                              27,\n",
       "                                                                              28,\n",
       "                                                                              29,\n",
       "                                                                              30,\n",
       "                                                                              31,\n",
       "                                                                              32,\n",
       "                                                                              33,\n",
       "                                                                              34],\n",
       "                                        'reg__C': <scipy.stats._distn_infrastructure.rv_frozen object at 0x1316e36a0>,\n",
       "                                        'reg__penalty': ['l2', 'l1']},\n",
       "                   pre_dispatch='2*n_jobs', random_state=42, refit=True,\n",
       "                   return_train_score=False, scoring='accuracy', verbose=5)"
      ]
     },
     "execution_count": 205,
     "metadata": {},
     "output_type": "execute_result"
    }
   ],
   "source": [
    "from sklearn.model_selection import RandomizedSearchCV\n",
    "from scipy.stats import uniform, reciprocal\n",
    "\n",
    "param_distrib = {'reg__penalty': ['l2', 'l1'], \n",
    "                 \"reg__C\":uniform(.1, 20),\n",
    "                 \"pre__gen_features__spam_ham_ratio\":list(range(10, 35)),\n",
    "                 \"pre__gen_features__n_subj_words\": list(range(5, 20))}\n",
    "\n",
    "rnd_srch_log = RandomizedSearchCV(log_reg, param_distributions=param_distrib, \n",
    "                                  cv=5, scoring=\"accuracy\", random_state=42,\n",
    "                                  n_iter=5, n_jobs=-1, verbose=5)\n",
    "\n",
    "rnd_srch_log.fit(X_train, y_train)"
   ]
  },
  {
   "cell_type": "code",
   "execution_count": 206,
   "metadata": {},
   "outputs": [
    {
     "name": "stdout",
     "output_type": "stream",
     "text": [
      "Best score: 0.967\n",
      "Best params: {'pre__gen_features__n_subj_words': 12, 'pre__gen_features__spam_ham_ratio': 30, 'reg__C': 3.2203728088487305, 'reg__penalty': 'l2'}\n"
     ]
    }
   ],
   "source": [
    "print('Best score: %.3f' % rnd_srch_log.best_score_)\n",
    "print('Best params:', rnd_srch_log.best_params_)"
   ]
  },
  {
   "cell_type": "code",
   "execution_count": 209,
   "metadata": {
    "scrolled": true
   },
   "outputs": [
    {
     "name": "stdout",
     "output_type": "stream",
     "text": [
      "Score: 0.967 +/- 0.003.\n"
     ]
    }
   ],
   "source": [
    "log_reg = rnd_srch_log.best_estimator_\n",
    "#log_regg = LogisticRegression(C=0.210442342472048, penalty='l2')\n",
    "\n",
    "ev = cross_val_score(log_reg, X_train, y_train, cv=5, scoring='accuracy', verbose=0, n_jobs=-1)\n",
    "\n",
    "print( 'Score: %.3f +/- %.3f.' % (ev.mean(), ev.std()) )"
   ]
  },
  {
   "cell_type": "markdown",
   "metadata": {},
   "source": [
    "### SGD Classifier"
   ]
  },
  {
   "cell_type": "code",
   "execution_count": 210,
   "metadata": {},
   "outputs": [
    {
     "data": {
      "text/plain": [
       "0.9583733562035448"
      ]
     },
     "execution_count": 210,
     "metadata": {},
     "output_type": "execute_result"
    }
   ],
   "source": [
    "from sklearn.linear_model import SGDClassifier\n",
    "\n",
    "sgd_clf = Pipeline([\n",
    "    ('pre', prepare_mail),\n",
    "    ('sgd', SGDClassifier(loss=\"log\", random_state=42))\n",
    "])\n",
    "\n",
    "cross_val_score(sgd_clf, X_train, y_train, cv=5, scoring='accuracy', n_jobs=-1).mean()"
   ]
  },
  {
   "cell_type": "code",
   "execution_count": 214,
   "metadata": {
    "scrolled": true
   },
   "outputs": [
    {
     "name": "stdout",
     "output_type": "stream",
     "text": [
      "Fitting 5 folds for each of 20 candidates, totalling 100 fits\n"
     ]
    },
    {
     "name": "stderr",
     "output_type": "stream",
     "text": [
      "[Parallel(n_jobs=-1)]: Using backend LokyBackend with 8 concurrent workers.\n",
      "[Parallel(n_jobs=-1)]: Done  16 tasks      | elapsed:   36.4s\n",
      "[Parallel(n_jobs=-1)]: Done 100 out of 100 | elapsed:  3.5min finished\n"
     ]
    },
    {
     "data": {
      "text/plain": [
       "RandomizedSearchCV(cv=5, error_score='raise-deprecating',\n",
       "                   estimator=Pipeline(memory=None,\n",
       "                                      steps=[('pre',\n",
       "                                              Pipeline(memory=None,\n",
       "                                                       steps=[('gen_features',\n",
       "                                                               PrepareMail(ham_dict=array(['NUMBER', 'URL', 'com', 'font', 'list', 'new', 'get', 'one', 'use',\n",
       "       'time', 'like', 'would', 'color', 'net', 'linux', 'mail', 'also',\n",
       "       'people', 'date', 'world', 'web', 'message', 'free', 'said', 'url',...\n",
       "                                        'pre__gen_features__spam_ham_ratio': [10,\n",
       "                                                                              11,\n",
       "                                                                              12,\n",
       "                                                                              13,\n",
       "                                                                              14,\n",
       "                                                                              15,\n",
       "                                                                              16,\n",
       "                                                                              17,\n",
       "                                                                              18,\n",
       "                                                                              19,\n",
       "                                                                              20,\n",
       "                                                                              21,\n",
       "                                                                              22,\n",
       "                                                                              23,\n",
       "                                                                              24,\n",
       "                                                                              25,\n",
       "                                                                              26,\n",
       "                                                                              27,\n",
       "                                                                              28,\n",
       "                                                                              29,\n",
       "                                                                              30,\n",
       "                                                                              31,\n",
       "                                                                              32,\n",
       "                                                                              33,\n",
       "                                                                              34],\n",
       "                                        'sgd__alpha': <scipy.stats._distn_infrastructure.rv_frozen object at 0x130660b38>,\n",
       "                                        'sgd__l1_ratio': <scipy.stats._distn_infrastructure.rv_frozen object at 0x1306605f8>},\n",
       "                   pre_dispatch='2*n_jobs', random_state=42, refit=True,\n",
       "                   return_train_score=False, scoring='accuracy', verbose=3)"
      ]
     },
     "execution_count": 214,
     "metadata": {},
     "output_type": "execute_result"
    }
   ],
   "source": [
    "from sklearn.model_selection import RandomizedSearchCV\n",
    "from scipy.stats import uniform, reciprocal\n",
    "\n",
    "param_distrib = {'sgd__l1_ratio': uniform(0,1), 'sgd__alpha': reciprocal(.0001, 1),\n",
    "                \"pre__gen_features__spam_ham_ratio\":list(range(10, 35)),\n",
    "                \"pre__gen_features__n_subj_words\": list(range(5, 20))}\n",
    "\n",
    "rnd_srch_sgd = RandomizedSearchCV(sgd_clf, param_distributions=param_distrib, \n",
    "                                  cv=5, scoring='accuracy', random_state=42,\n",
    "                                  n_iter=20, verbose=3, n_jobs=-1)\n",
    "\n",
    "rnd_srch_sgd.fit(X_train, y_train)"
   ]
  },
  {
   "cell_type": "code",
   "execution_count": 215,
   "metadata": {},
   "outputs": [
    {
     "name": "stdout",
     "output_type": "stream",
     "text": [
      "Best score: 0.964\n",
      "Best params: {'pre__gen_features__n_subj_words': 6, 'pre__gen_features__spam_ham_ratio': 29, 'sgd__alpha': 0.0009206654892274761, 'sgd__l1_ratio': 0.6832635188254582}\n"
     ]
    }
   ],
   "source": [
    "print('Best score: %.3f' % rnd_srch_sgd.best_score_)\n",
    "print('Best params:', rnd_srch_sgd.best_params_)"
   ]
  },
  {
   "cell_type": "code",
   "execution_count": 218,
   "metadata": {},
   "outputs": [
    {
     "name": "stdout",
     "output_type": "stream",
     "text": [
      "Score: 0.964 +/- 0.010.\n"
     ]
    }
   ],
   "source": [
    "sgd_clf = rnd_srch_sgd.best_estimator_\n",
    "\n",
    "ev = cross_val_score(sgd_clf, X_train, y_train, cv=5, scoring='accuracy', verbose=0, n_jobs=-1)\n",
    "print( 'Score: %.3f +/- %.3f.' % (ev.mean(), ev.std()) )"
   ]
  },
  {
   "cell_type": "markdown",
   "metadata": {},
   "source": [
    "### RandomForestClassifier"
   ]
  },
  {
   "cell_type": "code",
   "execution_count": 220,
   "metadata": {},
   "outputs": [
    {
     "data": {
      "text/plain": [
       "0.9719968553459118"
      ]
     },
     "execution_count": 220,
     "metadata": {},
     "output_type": "execute_result"
    }
   ],
   "source": [
    "from sklearn.ensemble import RandomForestClassifier\n",
    "\n",
    "forest_clf = Pipeline([\n",
    "    ('pre', prepare_mail),\n",
    "    ('rnd', RandomForestClassifier(random_state=42))\n",
    "])\n",
    "\n",
    "\n",
    "cross_val_score(forest_clf, X_train, y_train, cv=5, scoring='accuracy', n_jobs=-1).mean()"
   ]
  },
  {
   "cell_type": "code",
   "execution_count": 222,
   "metadata": {
    "scrolled": true
   },
   "outputs": [
    {
     "name": "stdout",
     "output_type": "stream",
     "text": [
      "Fitting 5 folds for each of 5 candidates, totalling 25 fits\n"
     ]
    },
    {
     "name": "stderr",
     "output_type": "stream",
     "text": [
      "[Parallel(n_jobs=-1)]: Using backend LokyBackend with 8 concurrent workers.\n",
      "[Parallel(n_jobs=-1)]: Done   2 tasks      | elapsed:   16.7s\n",
      "[Parallel(n_jobs=-1)]: Done  16 out of  25 | elapsed:   34.9s remaining:   19.6s\n",
      "[Parallel(n_jobs=-1)]: Done  22 out of  25 | elapsed:   51.5s remaining:    7.0s\n",
      "[Parallel(n_jobs=-1)]: Done  25 out of  25 | elapsed:   58.6s finished\n"
     ]
    },
    {
     "data": {
      "text/plain": [
       "RandomizedSearchCV(cv=5, error_score='raise-deprecating',\n",
       "                   estimator=Pipeline(memory=None,\n",
       "                                      steps=[('pre',\n",
       "                                              Pipeline(memory=None,\n",
       "                                                       steps=[('gen_features',\n",
       "                                                               PrepareMail(ham_dict=array(['NUMBER', 'URL', 'com', 'font', 'list', 'new', 'get', 'one', 'use',\n",
       "       'time', 'like', 'would', 'color', 'net', 'linux', 'mail', 'also',\n",
       "       'people', 'date', 'world', 'web', 'message', 'free', 'said', 'url',...\n",
       "                                                                              17,\n",
       "                                                                              18,\n",
       "                                                                              19,\n",
       "                                                                              20,\n",
       "                                                                              21,\n",
       "                                                                              22,\n",
       "                                                                              23,\n",
       "                                                                              24,\n",
       "                                                                              25,\n",
       "                                                                              26,\n",
       "                                                                              27,\n",
       "                                                                              28,\n",
       "                                                                              29,\n",
       "                                                                              30,\n",
       "                                                                              31,\n",
       "                                                                              32,\n",
       "                                                                              33,\n",
       "                                                                              34],\n",
       "                                        'rnd__max_depth': <scipy.stats._distn_infrastructure.rv_frozen object at 0x13021dc88>,\n",
       "                                        'rnd__n_estimators': [1, 2, 3, 4, 5, 6,\n",
       "                                                              7, 8, 9, 10, 11,\n",
       "                                                              12, 13, 14, 15,\n",
       "                                                              16, 17, 18, 19,\n",
       "                                                              20, 21, 22, 23,\n",
       "                                                              24, 25, 26, 27,\n",
       "                                                              28, 29, 30, ...]},\n",
       "                   pre_dispatch='2*n_jobs', random_state=42, refit=True,\n",
       "                   return_train_score=False, scoring='accuracy', verbose=5)"
      ]
     },
     "execution_count": 222,
     "metadata": {},
     "output_type": "execute_result"
    }
   ],
   "source": [
    "param_distrib = {\"rnd__n_estimators\": list(range(1,500)), \"rnd__max_depth\": reciprocal(2,100),\n",
    "                 \"pre__gen_features__spam_ham_ratio\":list(range(10, 35)),\n",
    "                 \"pre__gen_features__n_subj_words\": list(range(5, 20))}\n",
    "\n",
    "rnd_srch_forest = RandomizedSearchCV(forest_clf, param_distributions=param_distrib,\n",
    "                                     cv=5, scoring='accuracy', random_state=42,\n",
    "                                     n_iter=5, verbose=5, n_jobs=-1)\n",
    "\n",
    "rnd_srch_forest.fit(X_train, y_train)"
   ]
  },
  {
   "cell_type": "code",
   "execution_count": 223,
   "metadata": {},
   "outputs": [
    {
     "name": "stdout",
     "output_type": "stream",
     "text": [
      "Best score: 0.978\n",
      "Best params: {'pre__gen_features__n_subj_words': 11, 'pre__gen_features__spam_ham_ratio': 29, 'rnd__max_depth': 82.46413065237454, 'rnd__n_estimators': 107}\n"
     ]
    }
   ],
   "source": [
    "print('Best score: %.3f' % rnd_srch_forest.best_score_)\n",
    "print('Best params:', rnd_srch_forest.best_params_)"
   ]
  },
  {
   "cell_type": "code",
   "execution_count": 225,
   "metadata": {},
   "outputs": [
    {
     "name": "stdout",
     "output_type": "stream",
     "text": [
      "Score: 0.982 +/- 0.005.\n"
     ]
    }
   ],
   "source": [
    "forest_clf = rnd_srch_forest.best_estimator_\n",
    "\n",
    "ev = cross_val_score(forest_clf, X_train, y_train, cv=10, scoring='accuracy', verbose=0, n_jobs=-1)\n",
    "print( 'Score: %.3f +/- %.3f.' % (ev.mean(), ev.std()) )"
   ]
  },
  {
   "cell_type": "markdown",
   "metadata": {},
   "source": [
    "### KNCLassifier"
   ]
  },
  {
   "cell_type": "code",
   "execution_count": 226,
   "metadata": {},
   "outputs": [
    {
     "data": {
      "text/plain": [
       "0.9307332761578044"
      ]
     },
     "execution_count": 226,
     "metadata": {},
     "output_type": "execute_result"
    }
   ],
   "source": [
    "from sklearn.neighbors import KNeighborsClassifier\n",
    "from sklearn.model_selection import cross_val_score\n",
    "\n",
    "knn_clf = Pipeline([\n",
    "    ('pre', prepare_mail),\n",
    "    ('knn', KNeighborsClassifier())\n",
    "])\n",
    "\n",
    "\n",
    "cross_val_score(knn_clf, X_train, y_train, cv=5, scoring='accuracy', n_jobs=-1).mean()"
   ]
  },
  {
   "cell_type": "code",
   "execution_count": 229,
   "metadata": {},
   "outputs": [
    {
     "name": "stdout",
     "output_type": "stream",
     "text": [
      "Fitting 5 folds for each of 5 candidates, totalling 25 fits\n"
     ]
    },
    {
     "name": "stderr",
     "output_type": "stream",
     "text": [
      "[Parallel(n_jobs=-1)]: Using backend LokyBackend with 8 concurrent workers.\n",
      "[Parallel(n_jobs=-1)]: Done   2 tasks      | elapsed:   17.9s\n",
      "[Parallel(n_jobs=-1)]: Done  16 out of  25 | elapsed:   35.3s remaining:   19.8s\n",
      "[Parallel(n_jobs=-1)]: Done  22 out of  25 | elapsed:   51.5s remaining:    7.0s\n",
      "[Parallel(n_jobs=-1)]: Done  25 out of  25 | elapsed:   58.9s finished\n"
     ]
    },
    {
     "data": {
      "text/plain": [
       "RandomizedSearchCV(cv=5, error_score='raise-deprecating',\n",
       "                   estimator=Pipeline(memory=None,\n",
       "                                      steps=[('pre',\n",
       "                                              Pipeline(memory=None,\n",
       "                                                       steps=[('gen_features',\n",
       "                                                               PrepareMail(ham_dict=array(['NUMBER', 'URL', 'com', 'font', 'list', 'new', 'get', 'one', 'use',\n",
       "       'time', 'like', 'would', 'color', 'net', 'linux', 'mail', 'also',\n",
       "       'people', 'date', 'world', 'web', 'message', 'free', 'said', 'url',...\n",
       "                                        'knn__n_neighbors': [1, 2, 3, 4, 5, 6,\n",
       "                                                             7, 8, 9],\n",
       "                                        'knn__weights': ['uniform', 'distance'],\n",
       "                                        'pre__gen_features__n_subj_words': [5,\n",
       "                                                                            6,\n",
       "                                                                            7,\n",
       "                                                                            8,\n",
       "                                                                            9,\n",
       "                                                                            10,\n",
       "                                                                            11,\n",
       "                                                                            12,\n",
       "                                                                            13,\n",
       "                                                                            14,\n",
       "                                                                            15,\n",
       "                                                                            16,\n",
       "                                                                            17,\n",
       "                                                                            18,\n",
       "                                                                            19],\n",
       "                                        'pre__gen_features__spam_ham_ratio': [10,\n",
       "                                                                              11,\n",
       "                                                                              12,\n",
       "                                                                              13,\n",
       "                                                                              14,\n",
       "                                                                              15,\n",
       "                                                                              16,\n",
       "                                                                              17,\n",
       "                                                                              18,\n",
       "                                                                              19,\n",
       "                                                                              20,\n",
       "                                                                              21,\n",
       "                                                                              22,\n",
       "                                                                              23,\n",
       "                                                                              24,\n",
       "                                                                              25,\n",
       "                                                                              26,\n",
       "                                                                              27,\n",
       "                                                                              28,\n",
       "                                                                              29,\n",
       "                                                                              30,\n",
       "                                                                              31,\n",
       "                                                                              32,\n",
       "                                                                              33,\n",
       "                                                                              34]},\n",
       "                   pre_dispatch='2*n_jobs', random_state=42, refit=True,\n",
       "                   return_train_score=False, scoring='accuracy', verbose=5)"
      ]
     },
     "execution_count": 229,
     "metadata": {},
     "output_type": "execute_result"
    }
   ],
   "source": [
    "param_distrib = {\"knn__n_neighbors\": list(range(1, 10)), \n",
    "                 \"knn__weights\": ['uniform', 'distance'], \n",
    "                 \"knn__leaf_size\": list(range(20, 50)),\n",
    "                 \"pre__gen_features__spam_ham_ratio\":list(range(10, 35)),\n",
    "                 \"pre__gen_features__n_subj_words\": list(range(5, 20))}\n",
    "\n",
    "rnd_srch_knn = RandomizedSearchCV(knn_clf, param_distributions=param_distrib,\n",
    "                                     cv=5, scoring='accuracy', random_state=42,\n",
    "                                     n_iter=5, verbose=5, n_jobs=-1)\n",
    "\n",
    "rnd_srch_knn.fit(X_train, y_train)"
   ]
  },
  {
   "cell_type": "code",
   "execution_count": 230,
   "metadata": {},
   "outputs": [
    {
     "name": "stdout",
     "output_type": "stream",
     "text": [
      "Best score: 0.957\n",
      "Best params: {'pre__gen_features__spam_ham_ratio': 18, 'pre__gen_features__n_subj_words': 8, 'knn__weights': 'distance', 'knn__n_neighbors': 1, 'knn__leaf_size': 38}\n"
     ]
    }
   ],
   "source": [
    "print('Best score: %.3f' % rnd_srch_knn.best_score_)\n",
    "print('Best params:', rnd_srch_knn.best_params_)"
   ]
  },
  {
   "cell_type": "code",
   "execution_count": 232,
   "metadata": {
    "scrolled": false
   },
   "outputs": [
    {
     "name": "stdout",
     "output_type": "stream",
     "text": [
      "Score: 0.957 +/- 0.010.\n"
     ]
    }
   ],
   "source": [
    "knn_clf = rnd_srch_knn.best_estimator_\n",
    "\n",
    "ev = cross_val_score(knn_clf, X_train, y_train, cv=5, scoring='accuracy', verbose=0, n_jobs=-1)\n",
    "print( 'Score: %.3f +/- %.3f.' % (ev.mean(), ev.std()) )"
   ]
  },
  {
   "cell_type": "markdown",
   "metadata": {},
   "source": [
    "### Support Vector Machine"
   ]
  },
  {
   "cell_type": "code",
   "execution_count": 233,
   "metadata": {},
   "outputs": [
    {
     "data": {
      "text/plain": [
       "0.9538321898227557"
      ]
     },
     "execution_count": 233,
     "metadata": {},
     "output_type": "execute_result"
    }
   ],
   "source": [
    "from sklearn.svm import SVC\n",
    "\n",
    "svc_clf = Pipeline([\n",
    "    ('pre', prepare_mail),\n",
    "    ('svc', SVC())\n",
    "])\n",
    "\n",
    "cross_val_score(svc_clf, X_train, y_train, cv=5, scoring='accuracy', n_jobs=-1).mean()"
   ]
  },
  {
   "cell_type": "code",
   "execution_count": 234,
   "metadata": {},
   "outputs": [
    {
     "name": "stdout",
     "output_type": "stream",
     "text": [
      "Fitting 5 folds for each of 5 candidates, totalling 25 fits\n"
     ]
    },
    {
     "name": "stderr",
     "output_type": "stream",
     "text": [
      "[Parallel(n_jobs=-1)]: Using backend LokyBackend with 8 concurrent workers.\n",
      "[Parallel(n_jobs=-1)]: Done   2 tasks      | elapsed:   15.5s\n",
      "[Parallel(n_jobs=-1)]: Done  16 out of  25 | elapsed:   34.4s remaining:   19.3s\n",
      "[Parallel(n_jobs=-1)]: Done  22 out of  25 | elapsed:   50.8s remaining:    6.9s\n",
      "[Parallel(n_jobs=-1)]: Done  25 out of  25 | elapsed:   57.9s finished\n"
     ]
    },
    {
     "data": {
      "text/plain": [
       "RandomizedSearchCV(cv=5, error_score='raise-deprecating',\n",
       "                   estimator=Pipeline(memory=None,\n",
       "                                      steps=[('pre',\n",
       "                                              Pipeline(memory=None,\n",
       "                                                       steps=[('gen_features',\n",
       "                                                               PrepareMail(ham_dict=array(['NUMBER', 'URL', 'com', 'font', 'list', 'new', 'get', 'one', 'use',\n",
       "       'time', 'like', 'would', 'color', 'net', 'linux', 'mail', 'also',\n",
       "       'people', 'date', 'world', 'web', 'message', 'free', 'said', 'url',...\n",
       "                                                                              15,\n",
       "                                                                              16,\n",
       "                                                                              17,\n",
       "                                                                              18,\n",
       "                                                                              19,\n",
       "                                                                              20,\n",
       "                                                                              21,\n",
       "                                                                              22,\n",
       "                                                                              23,\n",
       "                                                                              24,\n",
       "                                                                              25,\n",
       "                                                                              26,\n",
       "                                                                              27,\n",
       "                                                                              28,\n",
       "                                                                              29,\n",
       "                                                                              30,\n",
       "                                                                              31,\n",
       "                                                                              32,\n",
       "                                                                              33,\n",
       "                                                                              34],\n",
       "                                        'svc__C': <scipy.stats._distn_infrastructure.rv_frozen object at 0x13124b630>,\n",
       "                                        'svc__gamma': <scipy.stats._distn_infrastructure.rv_frozen object at 0x13124b208>,\n",
       "                                        'svc__kernel': ['rbf', 'poly']},\n",
       "                   pre_dispatch='2*n_jobs', random_state=None, refit=True,\n",
       "                   return_train_score=False, scoring='accuracy', verbose=5)"
      ]
     },
     "execution_count": 234,
     "metadata": {},
     "output_type": "execute_result"
    }
   ],
   "source": [
    "param_distrib = {'svc__kernel': ['rbf', 'poly'],\n",
    "                 'svc__C': reciprocal(1,2000),\n",
    "                 'svc__gamma': uniform(.0001, 1),\n",
    "                 \"pre__gen_features__spam_ham_ratio\":list(range(10, 35)),\n",
    "                 \"pre__gen_features__n_subj_words\": list(range(5, 20))}\n",
    "                 \n",
    "\n",
    "rnd_srch_svc = RandomizedSearchCV(svc_clf, param_distributions=param_distrib,\n",
    "                                     cv=5, scoring='accuracy', n_iter=5,\n",
    "                                     verbose=5, n_jobs=-1)\n",
    "\n",
    "rnd_srch_svc.fit(X_train, y_train)"
   ]
  },
  {
   "cell_type": "code",
   "execution_count": 235,
   "metadata": {},
   "outputs": [
    {
     "name": "stdout",
     "output_type": "stream",
     "text": [
      "Best score: 0.958\n",
      "Best params: {'pre__gen_features__n_subj_words': 5, 'pre__gen_features__spam_ham_ratio': 27, 'svc__C': 1569.9092317754876, 'svc__gamma': 0.047132239235116793, 'svc__kernel': 'poly'}\n"
     ]
    }
   ],
   "source": [
    "print('Best score: %.3f' % rnd_srch_svc.best_score_)\n",
    "print('Best params:', rnd_srch_svc.best_params_)"
   ]
  },
  {
   "cell_type": "code",
   "execution_count": 237,
   "metadata": {},
   "outputs": [
    {
     "name": "stdout",
     "output_type": "stream",
     "text": [
      "Score: 0.961 +/- 0.010.\n"
     ]
    }
   ],
   "source": [
    "svc_clf = rnd_srch_svc.best_estimator_\n",
    "\n",
    "ev = cross_val_score(svc_clf, X_train, y_train, cv=10, scoring='accuracy', verbose=0, n_jobs=-1)\n",
    "print( 'Score: %.3f +/- %.3f.' % (ev.mean(), ev.std()) )"
   ]
  },
  {
   "cell_type": "markdown",
   "metadata": {},
   "source": [
    "### Naive Bayes"
   ]
  },
  {
   "cell_type": "code",
   "execution_count": 97,
   "metadata": {},
   "outputs": [],
   "source": [
    "class do_nothing(BaseEstimator, TransformerMixin):\n",
    "    def fit(self, X, y=None):\n",
    "        return self\n",
    "    def transform(self, X, y=None):\n",
    "        X_float = np.array(X, dtype=np.float64)\n",
    "        X_int = np.array(X_float, dtype=np.int64)\n",
    "        X_int[X_int>1]=1\n",
    "        return X_int\n",
    "    \n",
    "\n",
    "preprocessing_bayes = ColumnTransformer([\n",
    "    ('cat', OneHotEncoder(), [-1]),\n",
    "    ('num', do_nothing(), slice(0,-1))\n",
    "])\n",
    "\n",
    "\n",
    "prepare_mail_bayes = Pipeline([\n",
    "    ('gen_features', PrepareMail(ham_dict=comm_ham_words, spam_dict=comm_spam_words, subj_dict=comm_subj_words, \n",
    "                                 n_words=200, spam_ham_ratio=26, n_subj_words=10)),\n",
    "    ('preprocess', preprocessing_bayes )\n",
    "    ])\n",
    "\n",
    "X_train_b = prepare_mail_bayes.fit_transform(X_train)"
   ]
  },
  {
   "cell_type": "code",
   "execution_count": 98,
   "metadata": {},
   "outputs": [
    {
     "name": "stdout",
     "output_type": "stream",
     "text": [
      "Score: 0.750 +/- 0.017.\n"
     ]
    }
   ],
   "source": [
    "from sklearn.naive_bayes import GaussianNB\n",
    "\n",
    "bayes_clf = GaussianNB()\n",
    "ev = cross_val_score(bayes_clf, X_train_b, y_train, cv=5, scoring='accuracy', verbose=0, n_jobs=-1)\n",
    "print( 'Score: %.3f +/- %.3f.' % (ev.mean(), ev.std()) )"
   ]
  },
  {
   "cell_type": "markdown",
   "metadata": {},
   "source": [
    "### Voting Classifier"
   ]
  },
  {
   "cell_type": "code",
   "execution_count": 239,
   "metadata": {
    "scrolled": true
   },
   "outputs": [
    {
     "name": "stdout",
     "output_type": "stream",
     "text": [
      "Score: 0.977 +/- 0.008.\n"
     ]
    }
   ],
   "source": [
    "from sklearn.ensemble import VotingClassifier\n",
    "from sklearn.metrics import accuracy_score\n",
    "\n",
    "voting_clf = VotingClassifier([('log', log_reg), ('SGD', sgd_clf), ('forest', forest_clf),\n",
    "                               ('knn', knn_clf), ('svc', svc_clf)], voting='hard')\n",
    "\n",
    "ev = cross_val_score(voting_clf, X_train, y_train, cv=5, scoring='accuracy', verbose=0, n_jobs=-1)\n",
    "print( 'Score: %.3f +/- %.3f.' % (ev.mean(), ev.std()) )"
   ]
  },
  {
   "cell_type": "markdown",
   "metadata": {},
   "source": [
    "__Remove SVM and SGD classifier__"
   ]
  },
  {
   "cell_type": "code",
   "execution_count": 240,
   "metadata": {},
   "outputs": [],
   "source": [
    "del voting_clf.estimators[1]\n",
    "del voting_clf.estimators[-1]"
   ]
  },
  {
   "cell_type": "code",
   "execution_count": 242,
   "metadata": {},
   "outputs": [
    {
     "name": "stdout",
     "output_type": "stream",
     "text": [
      "Score: 0.979 +/- 0.008.\n"
     ]
    }
   ],
   "source": [
    "ev = cross_val_score(voting_clf, X_train, y_train, cv=5, scoring='accuracy', verbose=0, n_jobs=-1)\n",
    "print( 'Score: %.3f +/- %.3f.' % (ev.mean(), ev.std()) )"
   ]
  },
  {
   "cell_type": "markdown",
   "metadata": {},
   "source": [
    "## Test set"
   ]
  },
  {
   "cell_type": "code",
   "execution_count": 104,
   "metadata": {},
   "outputs": [],
   "source": [
    "X_test_prepared = prepare_mail.transform(X_test) "
   ]
  },
  {
   "cell_type": "code",
   "execution_count": 244,
   "metadata": {
    "scrolled": true
   },
   "outputs": [
    {
     "name": "stdout",
     "output_type": "stream",
     "text": [
      "Score on the test set: 0.977\n",
      "Precision: 0.981\n",
      "Recall: 0.993\n"
     ]
    }
   ],
   "source": [
    "from sklearn.metrics import precision_score, recall_score\n",
    "\n",
    "voting_clf.fit(X_train, y_train)\n",
    "y_test_pred = voting_clf.predict(X_test)\n",
    "print('Score on the test set: %.3f' % accuracy_score(y_test, y_test_pred))\n",
    "print('Precision: %.3f' % precision_score(y_test, y_test_pred))\n",
    "print('Recall: %.3f' % recall_score(y_test, y_test_pred))"
   ]
  },
  {
   "cell_type": "code",
   "execution_count": 245,
   "metadata": {},
   "outputs": [
    {
     "data": {
      "text/plain": [
       "array([[ 89,  11],\n",
       "       [  4, 556]])"
      ]
     },
     "execution_count": 245,
     "metadata": {},
     "output_type": "execute_result"
    }
   ],
   "source": [
    "from sklearn.metrics import confusion_matrix\n",
    "confusion_matrix(y_test, y_test_pred)"
   ]
  },
  {
   "cell_type": "code",
   "execution_count": 248,
   "metadata": {},
   "outputs": [
    {
     "name": "stdout",
     "output_type": "stream",
     "text": [
      "Pipeline(memory=None,\n",
      "         steps=[('pre',\n",
      "                 Pipeline(memory=None,\n",
      "                          steps=[('gen_features',\n",
      "                                  PrepareMail(ham_dict=array(['NUMBER', 'URL', 'com', 'font', 'list', 'new', 'get', 'one', 'use',\n",
      "       'time', 'like', 'would', 'color', 'net', 'linux', 'mail', 'also',\n",
      "       'people', 'date', 'world', 'web', 'message', 'free', 'said', 'url',\n",
      "       'wrote', 'email', 'text', 'could', 'make', 'see', 'mailing',\n",
      "       'users', 'way...\n",
      "                                                                                 handle_unknown='error',\n",
      "                                                                                 n_values=None,\n",
      "                                                                                 sparse=True),\n",
      "                                                                   [-1])],\n",
      "                                                    verbose=False))],\n",
      "                          verbose=False)),\n",
      "                ('reg',\n",
      "                 LogisticRegression(C=3.2203728088487305, class_weight=None,\n",
      "                                    dual=False, fit_intercept=True,\n",
      "                                    intercept_scaling=1, l1_ratio=None,\n",
      "                                    max_iter=100, multi_class='warn',\n",
      "                                    n_jobs=None, penalty='l2', random_state=42,\n",
      "                                    solver='liblinear', tol=0.0001, verbose=0,\n",
      "                                    warm_start=False))],\n",
      "         verbose=False)\n",
      "Score: 0.961 \n",
      "\n",
      "Pipeline(memory=None,\n",
      "         steps=[('pre',\n",
      "                 Pipeline(memory=None,\n",
      "                          steps=[('gen_features',\n",
      "                                  PrepareMail(ham_dict=array(['NUMBER', 'URL', 'com', 'font', 'list', 'new', 'get', 'one', 'use',\n",
      "       'time', 'like', 'would', 'color', 'net', 'linux', 'mail', 'also',\n",
      "       'people', 'date', 'world', 'web', 'message', 'free', 'said', 'url',\n",
      "       'wrote', 'email', 'text', 'could', 'make', 'see', 'mailing',\n",
      "       'users', 'way...\n",
      "                 SGDClassifier(alpha=0.0009206654892274761, average=False,\n",
      "                               class_weight=None, early_stopping=False,\n",
      "                               epsilon=0.1, eta0=0.0, fit_intercept=True,\n",
      "                               l1_ratio=0.6832635188254582,\n",
      "                               learning_rate='optimal', loss='log',\n",
      "                               max_iter=1000, n_iter_no_change=5, n_jobs=None,\n",
      "                               penalty='l2', power_t=0.5, random_state=42,\n",
      "                               shuffle=True, tol=0.001, validation_fraction=0.1,\n",
      "                               verbose=0, warm_start=False))],\n",
      "         verbose=False)\n",
      "Score: 0.953 \n",
      "\n",
      "Pipeline(memory=None,\n",
      "         steps=[('pre',\n",
      "                 Pipeline(memory=None,\n",
      "                          steps=[('gen_features',\n",
      "                                  PrepareMail(ham_dict=array(['NUMBER', 'URL', 'com', 'font', 'list', 'new', 'get', 'one', 'use',\n",
      "       'time', 'like', 'would', 'color', 'net', 'linux', 'mail', 'also',\n",
      "       'people', 'date', 'world', 'web', 'message', 'free', 'said', 'url',\n",
      "       'wrote', 'email', 'text', 'could', 'make', 'see', 'mailing',\n",
      "       'users', 'way...\n",
      "                 RandomForestClassifier(bootstrap=True, class_weight=None,\n",
      "                                        criterion='gini',\n",
      "                                        max_depth=82.46413065237454,\n",
      "                                        max_features='auto',\n",
      "                                        max_leaf_nodes=None,\n",
      "                                        min_impurity_decrease=0.0,\n",
      "                                        min_impurity_split=None,\n",
      "                                        min_samples_leaf=1, min_samples_split=2,\n",
      "                                        min_weight_fraction_leaf=0.0,\n",
      "                                        n_estimators=107, n_jobs=None,\n",
      "                                        oob_score=False, random_state=42,\n",
      "                                        verbose=0, warm_start=False))],\n",
      "         verbose=False)\n",
      "Score: 0.976 \n",
      "\n",
      "Pipeline(memory=None,\n",
      "         steps=[('pre',\n",
      "                 Pipeline(memory=None,\n",
      "                          steps=[('gen_features',\n",
      "                                  PrepareMail(ham_dict=array(['NUMBER', 'URL', 'com', 'font', 'list', 'new', 'get', 'one', 'use',\n",
      "       'time', 'like', 'would', 'color', 'net', 'linux', 'mail', 'also',\n",
      "       'people', 'date', 'world', 'web', 'message', 'free', 'said', 'url',\n",
      "       'wrote', 'email', 'text', 'could', 'make', 'see', 'mailing',\n",
      "       'users', 'way...\n",
      "                                                                                 categories=[array(['multipart/alt', 'multipart/mix', 'multipart/rel', 'multipart/rep',\n",
      "       'multipart/sig', 'text/html', 'text/plain'], dtype='<U13')],\n",
      "                                                                                 drop=None,\n",
      "                                                                                 dtype=<class 'numpy.float64'>,\n",
      "                                                                                 handle_unknown='error',\n",
      "                                                                                 n_values=None,\n",
      "                                                                                 sparse=True),\n",
      "                                                                   [-1])],\n",
      "                                                    verbose=False))],\n",
      "                          verbose=False)),\n",
      "                ('knn',\n",
      "                 KNeighborsClassifier(algorithm='auto', leaf_size=38,\n",
      "                                      metric='minkowski', metric_params=None,\n",
      "                                      n_jobs=None, n_neighbors=1, p=2,\n",
      "                                      weights='distance'))],\n",
      "         verbose=False)\n",
      "Score: 0.950 \n",
      "\n",
      "Pipeline(memory=None,\n",
      "         steps=[('pre',\n",
      "                 Pipeline(memory=None,\n",
      "                          steps=[('gen_features',\n",
      "                                  PrepareMail(ham_dict=array(['NUMBER', 'URL', 'com', 'font', 'list', 'new', 'get', 'one', 'use',\n",
      "       'time', 'like', 'would', 'color', 'net', 'linux', 'mail', 'also',\n",
      "       'people', 'date', 'world', 'web', 'message', 'free', 'said', 'url',\n",
      "       'wrote', 'email', 'text', 'could', 'make', 'see', 'mailing',\n",
      "       'users', 'way...\n",
      "                                                                                 dtype=<class 'numpy.float64'>,\n",
      "                                                                                 handle_unknown='error',\n",
      "                                                                                 n_values=None,\n",
      "                                                                                 sparse=True),\n",
      "                                                                   [-1])],\n",
      "                                                    verbose=False))],\n",
      "                          verbose=False)),\n",
      "                ('svc',\n",
      "                 SVC(C=1569.9092317754876, cache_size=200, class_weight=None,\n",
      "                     coef0=0.0, decision_function_shape='ovr', degree=3,\n",
      "                     gamma=0.047132239235116793, kernel='poly', max_iter=-1,\n",
      "                     probability=False, random_state=None, shrinking=True,\n",
      "                     tol=0.001, verbose=False))],\n",
      "         verbose=False)\n",
      "Score: 0.944 \n",
      "\n"
     ]
    }
   ],
   "source": [
    "for clf in (log_reg, sgd_clf, forest_clf, knn_clf, svc_clf):\n",
    "    clf.fit(X_train, y_train)\n",
    "    y_test_pred = clf.predict(X_test)\n",
    "    print(clf)\n",
    "    print('Score: %.3f \\n' % accuracy_score(y_test, y_test_pred))"
   ]
  },
  {
   "cell_type": "code",
   "execution_count": 257,
   "metadata": {},
   "outputs": [
    {
     "data": {
      "image/png": "[encoded data removed]",
      "text/plain": [
       "<Figure size 432x288 with 1 Axes>"
      ]
     },
     "metadata": {
      "needs_background": "light"
     },
     "output_type": "display_data"
    }
   ],
   "source": [
    "%matplotlib inline\n",
    "import matplotlib.pyplot as plt\n",
    "\n",
    "scores = forest_clf['rnd'].feature_importances_\n",
    "plt.plot(scores)\n",
    "plt.show()"
   ]
  },
  {
   "cell_type": "code",
   "execution_count": 258,
   "metadata": {},
   "outputs": [
    {
     "data": {
      "text/plain": [
       "array([  0,   1,   2,  22,  25,  54,  74, 114, 172, 173, 174, 180, 182,\n",
       "       185, 186, 187, 196, 198, 216, 217])"
      ]
     },
     "execution_count": 258,
     "metadata": {},
     "output_type": "execute_result"
    }
   ],
   "source": [
    "np.argwhere(scores>.01).reshape(len(scores[scores>.01]))"
   ]
  },
  {
   "cell_type": "code",
   "execution_count": 110,
   "metadata": {
    "scrolled": false
   },
   "outputs": [
    {
     "name": "stdout",
     "output_type": "stream",
     "text": [
      "Word \t Importance\n",
      "NUMBER \t 0.024\n",
      "URL \t 0.012\n",
      "com \t 0.011\n",
      "date \t 0.011\n",
      "free \t 0.017\n",
      "wrote \t 0.015\n",
      "email \t 0.012\n",
      "information \t 0.014\n",
      "company \t 0.012\n",
      "please \t 0.044\n",
      "unsubscribe \t 0.013\n",
      "click \t 0.062\n",
      "guide \t 0.021\n",
      "insurance \t 0.016\n",
      "special \t 0.025\n",
      "reply \t 0.032\n"
     ]
    }
   ],
   "source": [
    "mail_class =  PrepareMail(ham_dict=comm_ham_words, spam_dict=comm_spam_words, subj_dict=comm_subj_words, \n",
    "                                 n_words=200, spam_ham_ratio=26, n_subj_words=10).fit(X_train)\n",
    "\n",
    "body_dict, subj_dict = mail_class.body_dict, mail_class.subj_dict\n",
    "\n",
    "print('Word \\t Importance')\n",
    "for index in    [0,1,2,18,22,25,26,54,72,74,96,114,191,192,193,199]:\n",
    "    print(body_dict[index] ,'\\t', np.round(scores[index], 3)) "
   ]
  },
  {
   "cell_type": "code",
   "execution_count": 55,
   "metadata": {
    "scrolled": true
   },
   "outputs": [
    {
     "name": "stdout",
     "output_type": "stream",
     "text": [
      "NUMBER 0.018\n",
      "ilug 0.005\n",
      "spambayes 0.003\n",
      "new 0.0\n",
      "satalk 0.001\n",
      "razor 0.0\n",
      "users 0.0\n",
      "use 0.001\n",
      "zzzzteana 0.001\n",
      "sadev 0.001\n",
      "perl 0.0\n"
     ]
    }
   ],
   "source": [
    "for index, word in zip(range(199, 210), subj_dict):\n",
    "    print(word, np.round(scores[index],3))"
   ]
  },
  {
   "cell_type": "markdown",
   "metadata": {},
   "source": [
    "## Data Visualisation"
   ]
  },
  {
   "cell_type": "code",
   "execution_count": 56,
   "metadata": {},
   "outputs": [],
   "source": [
    "from sklearn.manifold import TSNE\n",
    "\n",
    "t_sne = TSNE()\n",
    "scaler = StandardScaler()\n",
    "\n",
    "X_sne_train = t_sne.fit_transform(X_train_prepared)\n",
    "X_norm_train = scaler.fit_transform(X_sne_train)\n",
    "\n",
    "X_sne_test = t_sne.fit_transform(X_test_prepared)\n",
    "X_norm_test = scaler.fit_transform(X_sne_test)"
   ]
  },
  {
   "cell_type": "code",
   "execution_count": 57,
   "metadata": {},
   "outputs": [
    {
     "data": {
      "image/png": "[encoded data removed]",
      "text/plain": [
       "<Figure size 1440x720 with 2 Axes>"
      ]
     },
     "metadata": {
      "needs_background": "light"
     },
     "output_type": "display_data"
    }
   ],
   "source": [
    "import matplotlib.pyplot as plt\n",
    "\n",
    "fig = plt.figure(figsize=(20,10))\n",
    "ax1 = fig.add_subplot(121)\n",
    "ax2 = fig.add_subplot(122)\n",
    "\n",
    "ax1.scatter(X_norm_train[:,0], X_norm_train[:, 1], c=10*y_train, cmap=plt.get_cmap('Pastel1'))\n",
    "ax2.scatter(X_norm_test[:,0], X_norm_test[:, 1], c=y_test, cmap=plt.get_cmap('Pastel1'))\n",
    "\n",
    "plt.show()"
   ]
  },
  {
   "cell_type": "code",
   "execution_count": null,
   "metadata": {},
   "outputs": [],
   "source": []
  }
 ],
 "metadata": {
  "kernelspec": {
   "display_name": "Python 3",
   "language": "python",
   "name": "python3"
  },
  "language_info": {
   "codemirror_mode": {
    "name": "ipython",
    "version": 3
   },
   "file_extension": ".py",
   "mimetype": "text/x-python",
   "name": "python",
   "nbconvert_exporter": "python",
   "pygments_lexer": "ipython3",
   "version": "3.7.3"
  }
 },
 "nbformat": 4,
 "nbformat_minor": 2
}
